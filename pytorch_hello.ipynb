{
  "nbformat": 4,
  "nbformat_minor": 0,
  "metadata": {
    "colab": {
      "provenance": [],
      "include_colab_link": true
    },
    "kernelspec": {
      "name": "python3",
      "display_name": "Python 3"
    },
    "language_info": {
      "name": "python"
    },
    "widgets": {
      "application/vnd.jupyter.widget-state+json": {
        "2d2cf6fbf2cc41f48a0af080741212f4": {
          "model_module": "@jupyter-widgets/controls",
          "model_name": "HBoxModel",
          "model_module_version": "1.5.0",
          "state": {
            "_dom_classes": [],
            "_model_module": "@jupyter-widgets/controls",
            "_model_module_version": "1.5.0",
            "_model_name": "HBoxModel",
            "_view_count": null,
            "_view_module": "@jupyter-widgets/controls",
            "_view_module_version": "1.5.0",
            "_view_name": "HBoxView",
            "box_style": "",
            "children": [
              "IPY_MODEL_57c01eb9d7084b67a43d7027e2dc6cb0",
              "IPY_MODEL_6f83ea9e205d47e4bd25f2bf2bb36dc7",
              "IPY_MODEL_74d8a1ebc98a49c4923adc8b9b543f08"
            ],
            "layout": "IPY_MODEL_6ae6148eb15e4315aaa1298356262f55"
          }
        },
        "57c01eb9d7084b67a43d7027e2dc6cb0": {
          "model_module": "@jupyter-widgets/controls",
          "model_name": "HTMLModel",
          "model_module_version": "1.5.0",
          "state": {
            "_dom_classes": [],
            "_model_module": "@jupyter-widgets/controls",
            "_model_module_version": "1.5.0",
            "_model_name": "HTMLModel",
            "_view_count": null,
            "_view_module": "@jupyter-widgets/controls",
            "_view_module_version": "1.5.0",
            "_view_name": "HTMLView",
            "description": "",
            "description_tooltip": null,
            "layout": "IPY_MODEL_2e6828ef6eee49978523a39911f574f2",
            "placeholder": "​",
            "style": "IPY_MODEL_4b636c97e02e4f2892ea100d38273f8d",
            "value": "100%"
          }
        },
        "6f83ea9e205d47e4bd25f2bf2bb36dc7": {
          "model_module": "@jupyter-widgets/controls",
          "model_name": "FloatProgressModel",
          "model_module_version": "1.5.0",
          "state": {
            "_dom_classes": [],
            "_model_module": "@jupyter-widgets/controls",
            "_model_module_version": "1.5.0",
            "_model_name": "FloatProgressModel",
            "_view_count": null,
            "_view_module": "@jupyter-widgets/controls",
            "_view_module_version": "1.5.0",
            "_view_name": "ProgressView",
            "bar_style": "success",
            "description": "",
            "description_tooltip": null,
            "layout": "IPY_MODEL_b0697e3e08144ab2930dddced9c5c214",
            "max": 16,
            "min": 0,
            "orientation": "horizontal",
            "style": "IPY_MODEL_63a36ee25c704543938299bcbafeb9fe",
            "value": 16
          }
        },
        "74d8a1ebc98a49c4923adc8b9b543f08": {
          "model_module": "@jupyter-widgets/controls",
          "model_name": "HTMLModel",
          "model_module_version": "1.5.0",
          "state": {
            "_dom_classes": [],
            "_model_module": "@jupyter-widgets/controls",
            "_model_module_version": "1.5.0",
            "_model_name": "HTMLModel",
            "_view_count": null,
            "_view_module": "@jupyter-widgets/controls",
            "_view_module_version": "1.5.0",
            "_view_name": "HTMLView",
            "description": "",
            "description_tooltip": null,
            "layout": "IPY_MODEL_91dd8e3614db42d38408d5d07df6feef",
            "placeholder": "​",
            "style": "IPY_MODEL_3732eb3010464640b7d41aa3652c93b9",
            "value": " 16/16 [00:30&lt;00:00,  1.41s/it]"
          }
        },
        "6ae6148eb15e4315aaa1298356262f55": {
          "model_module": "@jupyter-widgets/base",
          "model_name": "LayoutModel",
          "model_module_version": "1.2.0",
          "state": {
            "_model_module": "@jupyter-widgets/base",
            "_model_module_version": "1.2.0",
            "_model_name": "LayoutModel",
            "_view_count": null,
            "_view_module": "@jupyter-widgets/base",
            "_view_module_version": "1.2.0",
            "_view_name": "LayoutView",
            "align_content": null,
            "align_items": null,
            "align_self": null,
            "border": null,
            "bottom": null,
            "display": null,
            "flex": null,
            "flex_flow": null,
            "grid_area": null,
            "grid_auto_columns": null,
            "grid_auto_flow": null,
            "grid_auto_rows": null,
            "grid_column": null,
            "grid_gap": null,
            "grid_row": null,
            "grid_template_areas": null,
            "grid_template_columns": null,
            "grid_template_rows": null,
            "height": null,
            "justify_content": null,
            "justify_items": null,
            "left": null,
            "margin": null,
            "max_height": null,
            "max_width": null,
            "min_height": null,
            "min_width": null,
            "object_fit": null,
            "object_position": null,
            "order": null,
            "overflow": null,
            "overflow_x": null,
            "overflow_y": null,
            "padding": null,
            "right": null,
            "top": null,
            "visibility": null,
            "width": null
          }
        },
        "2e6828ef6eee49978523a39911f574f2": {
          "model_module": "@jupyter-widgets/base",
          "model_name": "LayoutModel",
          "model_module_version": "1.2.0",
          "state": {
            "_model_module": "@jupyter-widgets/base",
            "_model_module_version": "1.2.0",
            "_model_name": "LayoutModel",
            "_view_count": null,
            "_view_module": "@jupyter-widgets/base",
            "_view_module_version": "1.2.0",
            "_view_name": "LayoutView",
            "align_content": null,
            "align_items": null,
            "align_self": null,
            "border": null,
            "bottom": null,
            "display": null,
            "flex": null,
            "flex_flow": null,
            "grid_area": null,
            "grid_auto_columns": null,
            "grid_auto_flow": null,
            "grid_auto_rows": null,
            "grid_column": null,
            "grid_gap": null,
            "grid_row": null,
            "grid_template_areas": null,
            "grid_template_columns": null,
            "grid_template_rows": null,
            "height": null,
            "justify_content": null,
            "justify_items": null,
            "left": null,
            "margin": null,
            "max_height": null,
            "max_width": null,
            "min_height": null,
            "min_width": null,
            "object_fit": null,
            "object_position": null,
            "order": null,
            "overflow": null,
            "overflow_x": null,
            "overflow_y": null,
            "padding": null,
            "right": null,
            "top": null,
            "visibility": null,
            "width": null
          }
        },
        "4b636c97e02e4f2892ea100d38273f8d": {
          "model_module": "@jupyter-widgets/controls",
          "model_name": "DescriptionStyleModel",
          "model_module_version": "1.5.0",
          "state": {
            "_model_module": "@jupyter-widgets/controls",
            "_model_module_version": "1.5.0",
            "_model_name": "DescriptionStyleModel",
            "_view_count": null,
            "_view_module": "@jupyter-widgets/base",
            "_view_module_version": "1.2.0",
            "_view_name": "StyleView",
            "description_width": ""
          }
        },
        "b0697e3e08144ab2930dddced9c5c214": {
          "model_module": "@jupyter-widgets/base",
          "model_name": "LayoutModel",
          "model_module_version": "1.2.0",
          "state": {
            "_model_module": "@jupyter-widgets/base",
            "_model_module_version": "1.2.0",
            "_model_name": "LayoutModel",
            "_view_count": null,
            "_view_module": "@jupyter-widgets/base",
            "_view_module_version": "1.2.0",
            "_view_name": "LayoutView",
            "align_content": null,
            "align_items": null,
            "align_self": null,
            "border": null,
            "bottom": null,
            "display": null,
            "flex": null,
            "flex_flow": null,
            "grid_area": null,
            "grid_auto_columns": null,
            "grid_auto_flow": null,
            "grid_auto_rows": null,
            "grid_column": null,
            "grid_gap": null,
            "grid_row": null,
            "grid_template_areas": null,
            "grid_template_columns": null,
            "grid_template_rows": null,
            "height": null,
            "justify_content": null,
            "justify_items": null,
            "left": null,
            "margin": null,
            "max_height": null,
            "max_width": null,
            "min_height": null,
            "min_width": null,
            "object_fit": null,
            "object_position": null,
            "order": null,
            "overflow": null,
            "overflow_x": null,
            "overflow_y": null,
            "padding": null,
            "right": null,
            "top": null,
            "visibility": null,
            "width": null
          }
        },
        "63a36ee25c704543938299bcbafeb9fe": {
          "model_module": "@jupyter-widgets/controls",
          "model_name": "ProgressStyleModel",
          "model_module_version": "1.5.0",
          "state": {
            "_model_module": "@jupyter-widgets/controls",
            "_model_module_version": "1.5.0",
            "_model_name": "ProgressStyleModel",
            "_view_count": null,
            "_view_module": "@jupyter-widgets/base",
            "_view_module_version": "1.2.0",
            "_view_name": "StyleView",
            "bar_color": null,
            "description_width": ""
          }
        },
        "91dd8e3614db42d38408d5d07df6feef": {
          "model_module": "@jupyter-widgets/base",
          "model_name": "LayoutModel",
          "model_module_version": "1.2.0",
          "state": {
            "_model_module": "@jupyter-widgets/base",
            "_model_module_version": "1.2.0",
            "_model_name": "LayoutModel",
            "_view_count": null,
            "_view_module": "@jupyter-widgets/base",
            "_view_module_version": "1.2.0",
            "_view_name": "LayoutView",
            "align_content": null,
            "align_items": null,
            "align_self": null,
            "border": null,
            "bottom": null,
            "display": null,
            "flex": null,
            "flex_flow": null,
            "grid_area": null,
            "grid_auto_columns": null,
            "grid_auto_flow": null,
            "grid_auto_rows": null,
            "grid_column": null,
            "grid_gap": null,
            "grid_row": null,
            "grid_template_areas": null,
            "grid_template_columns": null,
            "grid_template_rows": null,
            "height": null,
            "justify_content": null,
            "justify_items": null,
            "left": null,
            "margin": null,
            "max_height": null,
            "max_width": null,
            "min_height": null,
            "min_width": null,
            "object_fit": null,
            "object_position": null,
            "order": null,
            "overflow": null,
            "overflow_x": null,
            "overflow_y": null,
            "padding": null,
            "right": null,
            "top": null,
            "visibility": null,
            "width": null
          }
        },
        "3732eb3010464640b7d41aa3652c93b9": {
          "model_module": "@jupyter-widgets/controls",
          "model_name": "DescriptionStyleModel",
          "model_module_version": "1.5.0",
          "state": {
            "_model_module": "@jupyter-widgets/controls",
            "_model_module_version": "1.5.0",
            "_model_name": "DescriptionStyleModel",
            "_view_count": null,
            "_view_module": "@jupyter-widgets/base",
            "_view_module_version": "1.2.0",
            "_view_name": "StyleView",
            "description_width": ""
          }
        },
        "3a3af79866184631815416a9d89876ee": {
          "model_module": "@jupyter-widgets/controls",
          "model_name": "HBoxModel",
          "model_module_version": "1.5.0",
          "state": {
            "_dom_classes": [],
            "_model_module": "@jupyter-widgets/controls",
            "_model_module_version": "1.5.0",
            "_model_name": "HBoxModel",
            "_view_count": null,
            "_view_module": "@jupyter-widgets/controls",
            "_view_module_version": "1.5.0",
            "_view_name": "HBoxView",
            "box_style": "",
            "children": [
              "IPY_MODEL_4b54e4c55c724363b12be9d1951d526f",
              "IPY_MODEL_a2e0bb27933a4fcdaa98f6581e2e19be",
              "IPY_MODEL_d01fa02c2e634df892a7a73fb2e83e9e"
            ],
            "layout": "IPY_MODEL_719f4c7786a64c05bba482ac991fb4d9"
          }
        },
        "4b54e4c55c724363b12be9d1951d526f": {
          "model_module": "@jupyter-widgets/controls",
          "model_name": "HTMLModel",
          "model_module_version": "1.5.0",
          "state": {
            "_dom_classes": [],
            "_model_module": "@jupyter-widgets/controls",
            "_model_module_version": "1.5.0",
            "_model_name": "HTMLModel",
            "_view_count": null,
            "_view_module": "@jupyter-widgets/controls",
            "_view_module_version": "1.5.0",
            "_view_name": "HTMLView",
            "description": "",
            "description_tooltip": null,
            "layout": "IPY_MODEL_a1cd959e0c584511a04771c5e2c176dd",
            "placeholder": "​",
            "style": "IPY_MODEL_79d02e6844584d7ebca84b53d6ddfb56",
            "value": "100%"
          }
        },
        "a2e0bb27933a4fcdaa98f6581e2e19be": {
          "model_module": "@jupyter-widgets/controls",
          "model_name": "FloatProgressModel",
          "model_module_version": "1.5.0",
          "state": {
            "_dom_classes": [],
            "_model_module": "@jupyter-widgets/controls",
            "_model_module_version": "1.5.0",
            "_model_name": "FloatProgressModel",
            "_view_count": null,
            "_view_module": "@jupyter-widgets/controls",
            "_view_module_version": "1.5.0",
            "_view_name": "ProgressView",
            "bar_style": "success",
            "description": "",
            "description_tooltip": null,
            "layout": "IPY_MODEL_ac14d657698d43ac81c75634ede55be1",
            "max": 16,
            "min": 0,
            "orientation": "horizontal",
            "style": "IPY_MODEL_a288d058702c41e180c27d1930790376",
            "value": 16
          }
        },
        "d01fa02c2e634df892a7a73fb2e83e9e": {
          "model_module": "@jupyter-widgets/controls",
          "model_name": "HTMLModel",
          "model_module_version": "1.5.0",
          "state": {
            "_dom_classes": [],
            "_model_module": "@jupyter-widgets/controls",
            "_model_module_version": "1.5.0",
            "_model_name": "HTMLModel",
            "_view_count": null,
            "_view_module": "@jupyter-widgets/controls",
            "_view_module_version": "1.5.0",
            "_view_name": "HTMLView",
            "description": "",
            "description_tooltip": null,
            "layout": "IPY_MODEL_525922dc82224b80be724dd754a6c4d5",
            "placeholder": "​",
            "style": "IPY_MODEL_1449bffda2c741eda12a4cc1a927cf52",
            "value": " 16/16 [00:24&lt;00:00,  1.51s/it]"
          }
        },
        "719f4c7786a64c05bba482ac991fb4d9": {
          "model_module": "@jupyter-widgets/base",
          "model_name": "LayoutModel",
          "model_module_version": "1.2.0",
          "state": {
            "_model_module": "@jupyter-widgets/base",
            "_model_module_version": "1.2.0",
            "_model_name": "LayoutModel",
            "_view_count": null,
            "_view_module": "@jupyter-widgets/base",
            "_view_module_version": "1.2.0",
            "_view_name": "LayoutView",
            "align_content": null,
            "align_items": null,
            "align_self": null,
            "border": null,
            "bottom": null,
            "display": null,
            "flex": null,
            "flex_flow": null,
            "grid_area": null,
            "grid_auto_columns": null,
            "grid_auto_flow": null,
            "grid_auto_rows": null,
            "grid_column": null,
            "grid_gap": null,
            "grid_row": null,
            "grid_template_areas": null,
            "grid_template_columns": null,
            "grid_template_rows": null,
            "height": null,
            "justify_content": null,
            "justify_items": null,
            "left": null,
            "margin": null,
            "max_height": null,
            "max_width": null,
            "min_height": null,
            "min_width": null,
            "object_fit": null,
            "object_position": null,
            "order": null,
            "overflow": null,
            "overflow_x": null,
            "overflow_y": null,
            "padding": null,
            "right": null,
            "top": null,
            "visibility": null,
            "width": null
          }
        },
        "a1cd959e0c584511a04771c5e2c176dd": {
          "model_module": "@jupyter-widgets/base",
          "model_name": "LayoutModel",
          "model_module_version": "1.2.0",
          "state": {
            "_model_module": "@jupyter-widgets/base",
            "_model_module_version": "1.2.0",
            "_model_name": "LayoutModel",
            "_view_count": null,
            "_view_module": "@jupyter-widgets/base",
            "_view_module_version": "1.2.0",
            "_view_name": "LayoutView",
            "align_content": null,
            "align_items": null,
            "align_self": null,
            "border": null,
            "bottom": null,
            "display": null,
            "flex": null,
            "flex_flow": null,
            "grid_area": null,
            "grid_auto_columns": null,
            "grid_auto_flow": null,
            "grid_auto_rows": null,
            "grid_column": null,
            "grid_gap": null,
            "grid_row": null,
            "grid_template_areas": null,
            "grid_template_columns": null,
            "grid_template_rows": null,
            "height": null,
            "justify_content": null,
            "justify_items": null,
            "left": null,
            "margin": null,
            "max_height": null,
            "max_width": null,
            "min_height": null,
            "min_width": null,
            "object_fit": null,
            "object_position": null,
            "order": null,
            "overflow": null,
            "overflow_x": null,
            "overflow_y": null,
            "padding": null,
            "right": null,
            "top": null,
            "visibility": null,
            "width": null
          }
        },
        "79d02e6844584d7ebca84b53d6ddfb56": {
          "model_module": "@jupyter-widgets/controls",
          "model_name": "DescriptionStyleModel",
          "model_module_version": "1.5.0",
          "state": {
            "_model_module": "@jupyter-widgets/controls",
            "_model_module_version": "1.5.0",
            "_model_name": "DescriptionStyleModel",
            "_view_count": null,
            "_view_module": "@jupyter-widgets/base",
            "_view_module_version": "1.2.0",
            "_view_name": "StyleView",
            "description_width": ""
          }
        },
        "ac14d657698d43ac81c75634ede55be1": {
          "model_module": "@jupyter-widgets/base",
          "model_name": "LayoutModel",
          "model_module_version": "1.2.0",
          "state": {
            "_model_module": "@jupyter-widgets/base",
            "_model_module_version": "1.2.0",
            "_model_name": "LayoutModel",
            "_view_count": null,
            "_view_module": "@jupyter-widgets/base",
            "_view_module_version": "1.2.0",
            "_view_name": "LayoutView",
            "align_content": null,
            "align_items": null,
            "align_self": null,
            "border": null,
            "bottom": null,
            "display": null,
            "flex": null,
            "flex_flow": null,
            "grid_area": null,
            "grid_auto_columns": null,
            "grid_auto_flow": null,
            "grid_auto_rows": null,
            "grid_column": null,
            "grid_gap": null,
            "grid_row": null,
            "grid_template_areas": null,
            "grid_template_columns": null,
            "grid_template_rows": null,
            "height": null,
            "justify_content": null,
            "justify_items": null,
            "left": null,
            "margin": null,
            "max_height": null,
            "max_width": null,
            "min_height": null,
            "min_width": null,
            "object_fit": null,
            "object_position": null,
            "order": null,
            "overflow": null,
            "overflow_x": null,
            "overflow_y": null,
            "padding": null,
            "right": null,
            "top": null,
            "visibility": null,
            "width": null
          }
        },
        "a288d058702c41e180c27d1930790376": {
          "model_module": "@jupyter-widgets/controls",
          "model_name": "ProgressStyleModel",
          "model_module_version": "1.5.0",
          "state": {
            "_model_module": "@jupyter-widgets/controls",
            "_model_module_version": "1.5.0",
            "_model_name": "ProgressStyleModel",
            "_view_count": null,
            "_view_module": "@jupyter-widgets/base",
            "_view_module_version": "1.2.0",
            "_view_name": "StyleView",
            "bar_color": null,
            "description_width": ""
          }
        },
        "525922dc82224b80be724dd754a6c4d5": {
          "model_module": "@jupyter-widgets/base",
          "model_name": "LayoutModel",
          "model_module_version": "1.2.0",
          "state": {
            "_model_module": "@jupyter-widgets/base",
            "_model_module_version": "1.2.0",
            "_model_name": "LayoutModel",
            "_view_count": null,
            "_view_module": "@jupyter-widgets/base",
            "_view_module_version": "1.2.0",
            "_view_name": "LayoutView",
            "align_content": null,
            "align_items": null,
            "align_self": null,
            "border": null,
            "bottom": null,
            "display": null,
            "flex": null,
            "flex_flow": null,
            "grid_area": null,
            "grid_auto_columns": null,
            "grid_auto_flow": null,
            "grid_auto_rows": null,
            "grid_column": null,
            "grid_gap": null,
            "grid_row": null,
            "grid_template_areas": null,
            "grid_template_columns": null,
            "grid_template_rows": null,
            "height": null,
            "justify_content": null,
            "justify_items": null,
            "left": null,
            "margin": null,
            "max_height": null,
            "max_width": null,
            "min_height": null,
            "min_width": null,
            "object_fit": null,
            "object_position": null,
            "order": null,
            "overflow": null,
            "overflow_x": null,
            "overflow_y": null,
            "padding": null,
            "right": null,
            "top": null,
            "visibility": null,
            "width": null
          }
        },
        "1449bffda2c741eda12a4cc1a927cf52": {
          "model_module": "@jupyter-widgets/controls",
          "model_name": "DescriptionStyleModel",
          "model_module_version": "1.5.0",
          "state": {
            "_model_module": "@jupyter-widgets/controls",
            "_model_module_version": "1.5.0",
            "_model_name": "DescriptionStyleModel",
            "_view_count": null,
            "_view_module": "@jupyter-widgets/base",
            "_view_module_version": "1.2.0",
            "_view_name": "StyleView",
            "description_width": ""
          }
        },
        "ce0283a03c5a4156a21eef0907a28aa9": {
          "model_module": "@jupyter-widgets/controls",
          "model_name": "HBoxModel",
          "model_module_version": "1.5.0",
          "state": {
            "_dom_classes": [],
            "_model_module": "@jupyter-widgets/controls",
            "_model_module_version": "1.5.0",
            "_model_name": "HBoxModel",
            "_view_count": null,
            "_view_module": "@jupyter-widgets/controls",
            "_view_module_version": "1.5.0",
            "_view_name": "HBoxView",
            "box_style": "",
            "children": [
              "IPY_MODEL_e7989f70a0f840b6a7895e2e9db83357",
              "IPY_MODEL_7d2bb5b517fe439ca132ebfebd512d58",
              "IPY_MODEL_8474d796ba304307b24a6f14f76734d4"
            ],
            "layout": "IPY_MODEL_c40308b4ca7549e19b1c9d231aa164ea"
          }
        },
        "e7989f70a0f840b6a7895e2e9db83357": {
          "model_module": "@jupyter-widgets/controls",
          "model_name": "HTMLModel",
          "model_module_version": "1.5.0",
          "state": {
            "_dom_classes": [],
            "_model_module": "@jupyter-widgets/controls",
            "_model_module_version": "1.5.0",
            "_model_name": "HTMLModel",
            "_view_count": null,
            "_view_module": "@jupyter-widgets/controls",
            "_view_module_version": "1.5.0",
            "_view_name": "HTMLView",
            "description": "",
            "description_tooltip": null,
            "layout": "IPY_MODEL_c09279d804c84e0eaac69abffd22ba1d",
            "placeholder": "​",
            "style": "IPY_MODEL_9e0d90a75c994cc0886142ae01fa0c5b",
            "value": "100%"
          }
        },
        "7d2bb5b517fe439ca132ebfebd512d58": {
          "model_module": "@jupyter-widgets/controls",
          "model_name": "FloatProgressModel",
          "model_module_version": "1.5.0",
          "state": {
            "_dom_classes": [],
            "_model_module": "@jupyter-widgets/controls",
            "_model_module_version": "1.5.0",
            "_model_name": "FloatProgressModel",
            "_view_count": null,
            "_view_module": "@jupyter-widgets/controls",
            "_view_module_version": "1.5.0",
            "_view_name": "ProgressView",
            "bar_style": "success",
            "description": "",
            "description_tooltip": null,
            "layout": "IPY_MODEL_e6694a62f5574a5489d676d2c9cd3d1a",
            "max": 25,
            "min": 0,
            "orientation": "horizontal",
            "style": "IPY_MODEL_cf1a760a963a4add85b94024bcf217f5",
            "value": 25
          }
        },
        "8474d796ba304307b24a6f14f76734d4": {
          "model_module": "@jupyter-widgets/controls",
          "model_name": "HTMLModel",
          "model_module_version": "1.5.0",
          "state": {
            "_dom_classes": [],
            "_model_module": "@jupyter-widgets/controls",
            "_model_module_version": "1.5.0",
            "_model_name": "HTMLModel",
            "_view_count": null,
            "_view_module": "@jupyter-widgets/controls",
            "_view_module_version": "1.5.0",
            "_view_name": "HTMLView",
            "description": "",
            "description_tooltip": null,
            "layout": "IPY_MODEL_4875f7dec4d443ba9ea1402ca55adc4a",
            "placeholder": "​",
            "style": "IPY_MODEL_4d98bf2bbd984699987e0458469da8c7",
            "value": " 25/25 [00:55&lt;00:00,  2.24s/it]"
          }
        },
        "c40308b4ca7549e19b1c9d231aa164ea": {
          "model_module": "@jupyter-widgets/base",
          "model_name": "LayoutModel",
          "model_module_version": "1.2.0",
          "state": {
            "_model_module": "@jupyter-widgets/base",
            "_model_module_version": "1.2.0",
            "_model_name": "LayoutModel",
            "_view_count": null,
            "_view_module": "@jupyter-widgets/base",
            "_view_module_version": "1.2.0",
            "_view_name": "LayoutView",
            "align_content": null,
            "align_items": null,
            "align_self": null,
            "border": null,
            "bottom": null,
            "display": null,
            "flex": null,
            "flex_flow": null,
            "grid_area": null,
            "grid_auto_columns": null,
            "grid_auto_flow": null,
            "grid_auto_rows": null,
            "grid_column": null,
            "grid_gap": null,
            "grid_row": null,
            "grid_template_areas": null,
            "grid_template_columns": null,
            "grid_template_rows": null,
            "height": null,
            "justify_content": null,
            "justify_items": null,
            "left": null,
            "margin": null,
            "max_height": null,
            "max_width": null,
            "min_height": null,
            "min_width": null,
            "object_fit": null,
            "object_position": null,
            "order": null,
            "overflow": null,
            "overflow_x": null,
            "overflow_y": null,
            "padding": null,
            "right": null,
            "top": null,
            "visibility": null,
            "width": null
          }
        },
        "c09279d804c84e0eaac69abffd22ba1d": {
          "model_module": "@jupyter-widgets/base",
          "model_name": "LayoutModel",
          "model_module_version": "1.2.0",
          "state": {
            "_model_module": "@jupyter-widgets/base",
            "_model_module_version": "1.2.0",
            "_model_name": "LayoutModel",
            "_view_count": null,
            "_view_module": "@jupyter-widgets/base",
            "_view_module_version": "1.2.0",
            "_view_name": "LayoutView",
            "align_content": null,
            "align_items": null,
            "align_self": null,
            "border": null,
            "bottom": null,
            "display": null,
            "flex": null,
            "flex_flow": null,
            "grid_area": null,
            "grid_auto_columns": null,
            "grid_auto_flow": null,
            "grid_auto_rows": null,
            "grid_column": null,
            "grid_gap": null,
            "grid_row": null,
            "grid_template_areas": null,
            "grid_template_columns": null,
            "grid_template_rows": null,
            "height": null,
            "justify_content": null,
            "justify_items": null,
            "left": null,
            "margin": null,
            "max_height": null,
            "max_width": null,
            "min_height": null,
            "min_width": null,
            "object_fit": null,
            "object_position": null,
            "order": null,
            "overflow": null,
            "overflow_x": null,
            "overflow_y": null,
            "padding": null,
            "right": null,
            "top": null,
            "visibility": null,
            "width": null
          }
        },
        "9e0d90a75c994cc0886142ae01fa0c5b": {
          "model_module": "@jupyter-widgets/controls",
          "model_name": "DescriptionStyleModel",
          "model_module_version": "1.5.0",
          "state": {
            "_model_module": "@jupyter-widgets/controls",
            "_model_module_version": "1.5.0",
            "_model_name": "DescriptionStyleModel",
            "_view_count": null,
            "_view_module": "@jupyter-widgets/base",
            "_view_module_version": "1.2.0",
            "_view_name": "StyleView",
            "description_width": ""
          }
        },
        "e6694a62f5574a5489d676d2c9cd3d1a": {
          "model_module": "@jupyter-widgets/base",
          "model_name": "LayoutModel",
          "model_module_version": "1.2.0",
          "state": {
            "_model_module": "@jupyter-widgets/base",
            "_model_module_version": "1.2.0",
            "_model_name": "LayoutModel",
            "_view_count": null,
            "_view_module": "@jupyter-widgets/base",
            "_view_module_version": "1.2.0",
            "_view_name": "LayoutView",
            "align_content": null,
            "align_items": null,
            "align_self": null,
            "border": null,
            "bottom": null,
            "display": null,
            "flex": null,
            "flex_flow": null,
            "grid_area": null,
            "grid_auto_columns": null,
            "grid_auto_flow": null,
            "grid_auto_rows": null,
            "grid_column": null,
            "grid_gap": null,
            "grid_row": null,
            "grid_template_areas": null,
            "grid_template_columns": null,
            "grid_template_rows": null,
            "height": null,
            "justify_content": null,
            "justify_items": null,
            "left": null,
            "margin": null,
            "max_height": null,
            "max_width": null,
            "min_height": null,
            "min_width": null,
            "object_fit": null,
            "object_position": null,
            "order": null,
            "overflow": null,
            "overflow_x": null,
            "overflow_y": null,
            "padding": null,
            "right": null,
            "top": null,
            "visibility": null,
            "width": null
          }
        },
        "cf1a760a963a4add85b94024bcf217f5": {
          "model_module": "@jupyter-widgets/controls",
          "model_name": "ProgressStyleModel",
          "model_module_version": "1.5.0",
          "state": {
            "_model_module": "@jupyter-widgets/controls",
            "_model_module_version": "1.5.0",
            "_model_name": "ProgressStyleModel",
            "_view_count": null,
            "_view_module": "@jupyter-widgets/base",
            "_view_module_version": "1.2.0",
            "_view_name": "StyleView",
            "bar_color": null,
            "description_width": ""
          }
        },
        "4875f7dec4d443ba9ea1402ca55adc4a": {
          "model_module": "@jupyter-widgets/base",
          "model_name": "LayoutModel",
          "model_module_version": "1.2.0",
          "state": {
            "_model_module": "@jupyter-widgets/base",
            "_model_module_version": "1.2.0",
            "_model_name": "LayoutModel",
            "_view_count": null,
            "_view_module": "@jupyter-widgets/base",
            "_view_module_version": "1.2.0",
            "_view_name": "LayoutView",
            "align_content": null,
            "align_items": null,
            "align_self": null,
            "border": null,
            "bottom": null,
            "display": null,
            "flex": null,
            "flex_flow": null,
            "grid_area": null,
            "grid_auto_columns": null,
            "grid_auto_flow": null,
            "grid_auto_rows": null,
            "grid_column": null,
            "grid_gap": null,
            "grid_row": null,
            "grid_template_areas": null,
            "grid_template_columns": null,
            "grid_template_rows": null,
            "height": null,
            "justify_content": null,
            "justify_items": null,
            "left": null,
            "margin": null,
            "max_height": null,
            "max_width": null,
            "min_height": null,
            "min_width": null,
            "object_fit": null,
            "object_position": null,
            "order": null,
            "overflow": null,
            "overflow_x": null,
            "overflow_y": null,
            "padding": null,
            "right": null,
            "top": null,
            "visibility": null,
            "width": null
          }
        },
        "4d98bf2bbd984699987e0458469da8c7": {
          "model_module": "@jupyter-widgets/controls",
          "model_name": "DescriptionStyleModel",
          "model_module_version": "1.5.0",
          "state": {
            "_model_module": "@jupyter-widgets/controls",
            "_model_module_version": "1.5.0",
            "_model_name": "DescriptionStyleModel",
            "_view_count": null,
            "_view_module": "@jupyter-widgets/base",
            "_view_module_version": "1.2.0",
            "_view_name": "StyleView",
            "description_width": ""
          }
        },
        "d478b9eb433f4a7ca3c5081f14c47b4a": {
          "model_module": "@jupyter-widgets/controls",
          "model_name": "HBoxModel",
          "model_module_version": "1.5.0",
          "state": {
            "_dom_classes": [],
            "_model_module": "@jupyter-widgets/controls",
            "_model_module_version": "1.5.0",
            "_model_name": "HBoxModel",
            "_view_count": null,
            "_view_module": "@jupyter-widgets/controls",
            "_view_module_version": "1.5.0",
            "_view_name": "HBoxView",
            "box_style": "",
            "children": [
              "IPY_MODEL_d4f3b9590cbc40f7836f26345a3bc522",
              "IPY_MODEL_c5ca4e04b45c4800a3b09cb26da460f7",
              "IPY_MODEL_1b14d81c53374ef482e066059a8755e1"
            ],
            "layout": "IPY_MODEL_c39715c949864189b3d4dff7a28f53bd"
          }
        },
        "d4f3b9590cbc40f7836f26345a3bc522": {
          "model_module": "@jupyter-widgets/controls",
          "model_name": "HTMLModel",
          "model_module_version": "1.5.0",
          "state": {
            "_dom_classes": [],
            "_model_module": "@jupyter-widgets/controls",
            "_model_module_version": "1.5.0",
            "_model_name": "HTMLModel",
            "_view_count": null,
            "_view_module": "@jupyter-widgets/controls",
            "_view_module_version": "1.5.0",
            "_view_name": "HTMLView",
            "description": "",
            "description_tooltip": null,
            "layout": "IPY_MODEL_f286daef65f7488793f42be8e111c7a4",
            "placeholder": "​",
            "style": "IPY_MODEL_3cd91a9493354d6785f2414679e49bf3",
            "value": "100%"
          }
        },
        "c5ca4e04b45c4800a3b09cb26da460f7": {
          "model_module": "@jupyter-widgets/controls",
          "model_name": "FloatProgressModel",
          "model_module_version": "1.5.0",
          "state": {
            "_dom_classes": [],
            "_model_module": "@jupyter-widgets/controls",
            "_model_module_version": "1.5.0",
            "_model_name": "FloatProgressModel",
            "_view_count": null,
            "_view_module": "@jupyter-widgets/controls",
            "_view_module_version": "1.5.0",
            "_view_name": "ProgressView",
            "bar_style": "success",
            "description": "",
            "description_tooltip": null,
            "layout": "IPY_MODEL_9bbab41faecd4710a5d0e533572992f8",
            "max": 16,
            "min": 0,
            "orientation": "horizontal",
            "style": "IPY_MODEL_794ecbd993c94b3b80c927ee515da6c3",
            "value": 16
          }
        },
        "1b14d81c53374ef482e066059a8755e1": {
          "model_module": "@jupyter-widgets/controls",
          "model_name": "HTMLModel",
          "model_module_version": "1.5.0",
          "state": {
            "_dom_classes": [],
            "_model_module": "@jupyter-widgets/controls",
            "_model_module_version": "1.5.0",
            "_model_name": "HTMLModel",
            "_view_count": null,
            "_view_module": "@jupyter-widgets/controls",
            "_view_module_version": "1.5.0",
            "_view_name": "HTMLView",
            "description": "",
            "description_tooltip": null,
            "layout": "IPY_MODEL_1b7933963a5f479f9d78a8c59a7f5468",
            "placeholder": "​",
            "style": "IPY_MODEL_0d780aa00cdf45f2b19281aa2d71a926",
            "value": " 16/16 [00:23&lt;00:00,  1.41s/it]"
          }
        },
        "c39715c949864189b3d4dff7a28f53bd": {
          "model_module": "@jupyter-widgets/base",
          "model_name": "LayoutModel",
          "model_module_version": "1.2.0",
          "state": {
            "_model_module": "@jupyter-widgets/base",
            "_model_module_version": "1.2.0",
            "_model_name": "LayoutModel",
            "_view_count": null,
            "_view_module": "@jupyter-widgets/base",
            "_view_module_version": "1.2.0",
            "_view_name": "LayoutView",
            "align_content": null,
            "align_items": null,
            "align_self": null,
            "border": null,
            "bottom": null,
            "display": null,
            "flex": null,
            "flex_flow": null,
            "grid_area": null,
            "grid_auto_columns": null,
            "grid_auto_flow": null,
            "grid_auto_rows": null,
            "grid_column": null,
            "grid_gap": null,
            "grid_row": null,
            "grid_template_areas": null,
            "grid_template_columns": null,
            "grid_template_rows": null,
            "height": null,
            "justify_content": null,
            "justify_items": null,
            "left": null,
            "margin": null,
            "max_height": null,
            "max_width": null,
            "min_height": null,
            "min_width": null,
            "object_fit": null,
            "object_position": null,
            "order": null,
            "overflow": null,
            "overflow_x": null,
            "overflow_y": null,
            "padding": null,
            "right": null,
            "top": null,
            "visibility": null,
            "width": null
          }
        },
        "f286daef65f7488793f42be8e111c7a4": {
          "model_module": "@jupyter-widgets/base",
          "model_name": "LayoutModel",
          "model_module_version": "1.2.0",
          "state": {
            "_model_module": "@jupyter-widgets/base",
            "_model_module_version": "1.2.0",
            "_model_name": "LayoutModel",
            "_view_count": null,
            "_view_module": "@jupyter-widgets/base",
            "_view_module_version": "1.2.0",
            "_view_name": "LayoutView",
            "align_content": null,
            "align_items": null,
            "align_self": null,
            "border": null,
            "bottom": null,
            "display": null,
            "flex": null,
            "flex_flow": null,
            "grid_area": null,
            "grid_auto_columns": null,
            "grid_auto_flow": null,
            "grid_auto_rows": null,
            "grid_column": null,
            "grid_gap": null,
            "grid_row": null,
            "grid_template_areas": null,
            "grid_template_columns": null,
            "grid_template_rows": null,
            "height": null,
            "justify_content": null,
            "justify_items": null,
            "left": null,
            "margin": null,
            "max_height": null,
            "max_width": null,
            "min_height": null,
            "min_width": null,
            "object_fit": null,
            "object_position": null,
            "order": null,
            "overflow": null,
            "overflow_x": null,
            "overflow_y": null,
            "padding": null,
            "right": null,
            "top": null,
            "visibility": null,
            "width": null
          }
        },
        "3cd91a9493354d6785f2414679e49bf3": {
          "model_module": "@jupyter-widgets/controls",
          "model_name": "DescriptionStyleModel",
          "model_module_version": "1.5.0",
          "state": {
            "_model_module": "@jupyter-widgets/controls",
            "_model_module_version": "1.5.0",
            "_model_name": "DescriptionStyleModel",
            "_view_count": null,
            "_view_module": "@jupyter-widgets/base",
            "_view_module_version": "1.2.0",
            "_view_name": "StyleView",
            "description_width": ""
          }
        },
        "9bbab41faecd4710a5d0e533572992f8": {
          "model_module": "@jupyter-widgets/base",
          "model_name": "LayoutModel",
          "model_module_version": "1.2.0",
          "state": {
            "_model_module": "@jupyter-widgets/base",
            "_model_module_version": "1.2.0",
            "_model_name": "LayoutModel",
            "_view_count": null,
            "_view_module": "@jupyter-widgets/base",
            "_view_module_version": "1.2.0",
            "_view_name": "LayoutView",
            "align_content": null,
            "align_items": null,
            "align_self": null,
            "border": null,
            "bottom": null,
            "display": null,
            "flex": null,
            "flex_flow": null,
            "grid_area": null,
            "grid_auto_columns": null,
            "grid_auto_flow": null,
            "grid_auto_rows": null,
            "grid_column": null,
            "grid_gap": null,
            "grid_row": null,
            "grid_template_areas": null,
            "grid_template_columns": null,
            "grid_template_rows": null,
            "height": null,
            "justify_content": null,
            "justify_items": null,
            "left": null,
            "margin": null,
            "max_height": null,
            "max_width": null,
            "min_height": null,
            "min_width": null,
            "object_fit": null,
            "object_position": null,
            "order": null,
            "overflow": null,
            "overflow_x": null,
            "overflow_y": null,
            "padding": null,
            "right": null,
            "top": null,
            "visibility": null,
            "width": null
          }
        },
        "794ecbd993c94b3b80c927ee515da6c3": {
          "model_module": "@jupyter-widgets/controls",
          "model_name": "ProgressStyleModel",
          "model_module_version": "1.5.0",
          "state": {
            "_model_module": "@jupyter-widgets/controls",
            "_model_module_version": "1.5.0",
            "_model_name": "ProgressStyleModel",
            "_view_count": null,
            "_view_module": "@jupyter-widgets/base",
            "_view_module_version": "1.2.0",
            "_view_name": "StyleView",
            "bar_color": null,
            "description_width": ""
          }
        },
        "1b7933963a5f479f9d78a8c59a7f5468": {
          "model_module": "@jupyter-widgets/base",
          "model_name": "LayoutModel",
          "model_module_version": "1.2.0",
          "state": {
            "_model_module": "@jupyter-widgets/base",
            "_model_module_version": "1.2.0",
            "_model_name": "LayoutModel",
            "_view_count": null,
            "_view_module": "@jupyter-widgets/base",
            "_view_module_version": "1.2.0",
            "_view_name": "LayoutView",
            "align_content": null,
            "align_items": null,
            "align_self": null,
            "border": null,
            "bottom": null,
            "display": null,
            "flex": null,
            "flex_flow": null,
            "grid_area": null,
            "grid_auto_columns": null,
            "grid_auto_flow": null,
            "grid_auto_rows": null,
            "grid_column": null,
            "grid_gap": null,
            "grid_row": null,
            "grid_template_areas": null,
            "grid_template_columns": null,
            "grid_template_rows": null,
            "height": null,
            "justify_content": null,
            "justify_items": null,
            "left": null,
            "margin": null,
            "max_height": null,
            "max_width": null,
            "min_height": null,
            "min_width": null,
            "object_fit": null,
            "object_position": null,
            "order": null,
            "overflow": null,
            "overflow_x": null,
            "overflow_y": null,
            "padding": null,
            "right": null,
            "top": null,
            "visibility": null,
            "width": null
          }
        },
        "0d780aa00cdf45f2b19281aa2d71a926": {
          "model_module": "@jupyter-widgets/controls",
          "model_name": "DescriptionStyleModel",
          "model_module_version": "1.5.0",
          "state": {
            "_model_module": "@jupyter-widgets/controls",
            "_model_module_version": "1.5.0",
            "_model_name": "DescriptionStyleModel",
            "_view_count": null,
            "_view_module": "@jupyter-widgets/base",
            "_view_module_version": "1.2.0",
            "_view_name": "StyleView",
            "description_width": ""
          }
        },
        "c0347655aafe43a495ec8f5d8903f4c1": {
          "model_module": "@jupyter-widgets/controls",
          "model_name": "HBoxModel",
          "model_module_version": "1.5.0",
          "state": {
            "_dom_classes": [],
            "_model_module": "@jupyter-widgets/controls",
            "_model_module_version": "1.5.0",
            "_model_name": "HBoxModel",
            "_view_count": null,
            "_view_module": "@jupyter-widgets/controls",
            "_view_module_version": "1.5.0",
            "_view_name": "HBoxView",
            "box_style": "",
            "children": [
              "IPY_MODEL_1f85d03301da49ebb6a88c0aafcfc819",
              "IPY_MODEL_59427b92e23c4ca0b41e17be44422a9b",
              "IPY_MODEL_d3d614cccafd4f1785cbac5689c413ba"
            ],
            "layout": "IPY_MODEL_c1a7ce42ed6a4a3a9cd27411dddf5643"
          }
        },
        "1f85d03301da49ebb6a88c0aafcfc819": {
          "model_module": "@jupyter-widgets/controls",
          "model_name": "HTMLModel",
          "model_module_version": "1.5.0",
          "state": {
            "_dom_classes": [],
            "_model_module": "@jupyter-widgets/controls",
            "_model_module_version": "1.5.0",
            "_model_name": "HTMLModel",
            "_view_count": null,
            "_view_module": "@jupyter-widgets/controls",
            "_view_module_version": "1.5.0",
            "_view_name": "HTMLView",
            "description": "",
            "description_tooltip": null,
            "layout": "IPY_MODEL_313ef80a27e0422b815e59199c3dd081",
            "placeholder": "​",
            "style": "IPY_MODEL_3cde3a6bc21649e9beffd7d3d0f7d012",
            "value": "100%"
          }
        },
        "59427b92e23c4ca0b41e17be44422a9b": {
          "model_module": "@jupyter-widgets/controls",
          "model_name": "FloatProgressModel",
          "model_module_version": "1.5.0",
          "state": {
            "_dom_classes": [],
            "_model_module": "@jupyter-widgets/controls",
            "_model_module_version": "1.5.0",
            "_model_name": "FloatProgressModel",
            "_view_count": null,
            "_view_module": "@jupyter-widgets/controls",
            "_view_module_version": "1.5.0",
            "_view_name": "ProgressView",
            "bar_style": "success",
            "description": "",
            "description_tooltip": null,
            "layout": "IPY_MODEL_d0f2d71f781d4e9d84d01d7723510fca",
            "max": 25,
            "min": 0,
            "orientation": "horizontal",
            "style": "IPY_MODEL_701b234371b74908b46e508b1779a9d1",
            "value": 25
          }
        },
        "d3d614cccafd4f1785cbac5689c413ba": {
          "model_module": "@jupyter-widgets/controls",
          "model_name": "HTMLModel",
          "model_module_version": "1.5.0",
          "state": {
            "_dom_classes": [],
            "_model_module": "@jupyter-widgets/controls",
            "_model_module_version": "1.5.0",
            "_model_name": "HTMLModel",
            "_view_count": null,
            "_view_module": "@jupyter-widgets/controls",
            "_view_module_version": "1.5.0",
            "_view_name": "HTMLView",
            "description": "",
            "description_tooltip": null,
            "layout": "IPY_MODEL_6cb7129bb06a4abf849489f26947a530",
            "placeholder": "​",
            "style": "IPY_MODEL_a9bc4640caf9406384bb152e4ebdb93f",
            "value": " 25/25 [00:55&lt;00:00,  2.78s/it]"
          }
        },
        "c1a7ce42ed6a4a3a9cd27411dddf5643": {
          "model_module": "@jupyter-widgets/base",
          "model_name": "LayoutModel",
          "model_module_version": "1.2.0",
          "state": {
            "_model_module": "@jupyter-widgets/base",
            "_model_module_version": "1.2.0",
            "_model_name": "LayoutModel",
            "_view_count": null,
            "_view_module": "@jupyter-widgets/base",
            "_view_module_version": "1.2.0",
            "_view_name": "LayoutView",
            "align_content": null,
            "align_items": null,
            "align_self": null,
            "border": null,
            "bottom": null,
            "display": null,
            "flex": null,
            "flex_flow": null,
            "grid_area": null,
            "grid_auto_columns": null,
            "grid_auto_flow": null,
            "grid_auto_rows": null,
            "grid_column": null,
            "grid_gap": null,
            "grid_row": null,
            "grid_template_areas": null,
            "grid_template_columns": null,
            "grid_template_rows": null,
            "height": null,
            "justify_content": null,
            "justify_items": null,
            "left": null,
            "margin": null,
            "max_height": null,
            "max_width": null,
            "min_height": null,
            "min_width": null,
            "object_fit": null,
            "object_position": null,
            "order": null,
            "overflow": null,
            "overflow_x": null,
            "overflow_y": null,
            "padding": null,
            "right": null,
            "top": null,
            "visibility": null,
            "width": null
          }
        },
        "313ef80a27e0422b815e59199c3dd081": {
          "model_module": "@jupyter-widgets/base",
          "model_name": "LayoutModel",
          "model_module_version": "1.2.0",
          "state": {
            "_model_module": "@jupyter-widgets/base",
            "_model_module_version": "1.2.0",
            "_model_name": "LayoutModel",
            "_view_count": null,
            "_view_module": "@jupyter-widgets/base",
            "_view_module_version": "1.2.0",
            "_view_name": "LayoutView",
            "align_content": null,
            "align_items": null,
            "align_self": null,
            "border": null,
            "bottom": null,
            "display": null,
            "flex": null,
            "flex_flow": null,
            "grid_area": null,
            "grid_auto_columns": null,
            "grid_auto_flow": null,
            "grid_auto_rows": null,
            "grid_column": null,
            "grid_gap": null,
            "grid_row": null,
            "grid_template_areas": null,
            "grid_template_columns": null,
            "grid_template_rows": null,
            "height": null,
            "justify_content": null,
            "justify_items": null,
            "left": null,
            "margin": null,
            "max_height": null,
            "max_width": null,
            "min_height": null,
            "min_width": null,
            "object_fit": null,
            "object_position": null,
            "order": null,
            "overflow": null,
            "overflow_x": null,
            "overflow_y": null,
            "padding": null,
            "right": null,
            "top": null,
            "visibility": null,
            "width": null
          }
        },
        "3cde3a6bc21649e9beffd7d3d0f7d012": {
          "model_module": "@jupyter-widgets/controls",
          "model_name": "DescriptionStyleModel",
          "model_module_version": "1.5.0",
          "state": {
            "_model_module": "@jupyter-widgets/controls",
            "_model_module_version": "1.5.0",
            "_model_name": "DescriptionStyleModel",
            "_view_count": null,
            "_view_module": "@jupyter-widgets/base",
            "_view_module_version": "1.2.0",
            "_view_name": "StyleView",
            "description_width": ""
          }
        },
        "d0f2d71f781d4e9d84d01d7723510fca": {
          "model_module": "@jupyter-widgets/base",
          "model_name": "LayoutModel",
          "model_module_version": "1.2.0",
          "state": {
            "_model_module": "@jupyter-widgets/base",
            "_model_module_version": "1.2.0",
            "_model_name": "LayoutModel",
            "_view_count": null,
            "_view_module": "@jupyter-widgets/base",
            "_view_module_version": "1.2.0",
            "_view_name": "LayoutView",
            "align_content": null,
            "align_items": null,
            "align_self": null,
            "border": null,
            "bottom": null,
            "display": null,
            "flex": null,
            "flex_flow": null,
            "grid_area": null,
            "grid_auto_columns": null,
            "grid_auto_flow": null,
            "grid_auto_rows": null,
            "grid_column": null,
            "grid_gap": null,
            "grid_row": null,
            "grid_template_areas": null,
            "grid_template_columns": null,
            "grid_template_rows": null,
            "height": null,
            "justify_content": null,
            "justify_items": null,
            "left": null,
            "margin": null,
            "max_height": null,
            "max_width": null,
            "min_height": null,
            "min_width": null,
            "object_fit": null,
            "object_position": null,
            "order": null,
            "overflow": null,
            "overflow_x": null,
            "overflow_y": null,
            "padding": null,
            "right": null,
            "top": null,
            "visibility": null,
            "width": null
          }
        },
        "701b234371b74908b46e508b1779a9d1": {
          "model_module": "@jupyter-widgets/controls",
          "model_name": "ProgressStyleModel",
          "model_module_version": "1.5.0",
          "state": {
            "_model_module": "@jupyter-widgets/controls",
            "_model_module_version": "1.5.0",
            "_model_name": "ProgressStyleModel",
            "_view_count": null,
            "_view_module": "@jupyter-widgets/base",
            "_view_module_version": "1.2.0",
            "_view_name": "StyleView",
            "bar_color": null,
            "description_width": ""
          }
        },
        "6cb7129bb06a4abf849489f26947a530": {
          "model_module": "@jupyter-widgets/base",
          "model_name": "LayoutModel",
          "model_module_version": "1.2.0",
          "state": {
            "_model_module": "@jupyter-widgets/base",
            "_model_module_version": "1.2.0",
            "_model_name": "LayoutModel",
            "_view_count": null,
            "_view_module": "@jupyter-widgets/base",
            "_view_module_version": "1.2.0",
            "_view_name": "LayoutView",
            "align_content": null,
            "align_items": null,
            "align_self": null,
            "border": null,
            "bottom": null,
            "display": null,
            "flex": null,
            "flex_flow": null,
            "grid_area": null,
            "grid_auto_columns": null,
            "grid_auto_flow": null,
            "grid_auto_rows": null,
            "grid_column": null,
            "grid_gap": null,
            "grid_row": null,
            "grid_template_areas": null,
            "grid_template_columns": null,
            "grid_template_rows": null,
            "height": null,
            "justify_content": null,
            "justify_items": null,
            "left": null,
            "margin": null,
            "max_height": null,
            "max_width": null,
            "min_height": null,
            "min_width": null,
            "object_fit": null,
            "object_position": null,
            "order": null,
            "overflow": null,
            "overflow_x": null,
            "overflow_y": null,
            "padding": null,
            "right": null,
            "top": null,
            "visibility": null,
            "width": null
          }
        },
        "a9bc4640caf9406384bb152e4ebdb93f": {
          "model_module": "@jupyter-widgets/controls",
          "model_name": "DescriptionStyleModel",
          "model_module_version": "1.5.0",
          "state": {
            "_model_module": "@jupyter-widgets/controls",
            "_model_module_version": "1.5.0",
            "_model_name": "DescriptionStyleModel",
            "_view_count": null,
            "_view_module": "@jupyter-widgets/base",
            "_view_module_version": "1.2.0",
            "_view_name": "StyleView",
            "description_width": ""
          }
        },
        "a832ce05c8ee440790da12965b27c164": {
          "model_module": "@jupyter-widgets/controls",
          "model_name": "HBoxModel",
          "model_module_version": "1.5.0",
          "state": {
            "_dom_classes": [],
            "_model_module": "@jupyter-widgets/controls",
            "_model_module_version": "1.5.0",
            "_model_name": "HBoxModel",
            "_view_count": null,
            "_view_module": "@jupyter-widgets/controls",
            "_view_module_version": "1.5.0",
            "_view_name": "HBoxView",
            "box_style": "",
            "children": [
              "IPY_MODEL_e4939ffdce5d4bf09c654f8c1f5cb910",
              "IPY_MODEL_bfd743b5583b4531bf445e6e466ab6b0",
              "IPY_MODEL_ae0da68d45a5400ca7c5fe6465c30121"
            ],
            "layout": "IPY_MODEL_7061036013d542f5a76a9bfe9cc4defa"
          }
        },
        "e4939ffdce5d4bf09c654f8c1f5cb910": {
          "model_module": "@jupyter-widgets/controls",
          "model_name": "HTMLModel",
          "model_module_version": "1.5.0",
          "state": {
            "_dom_classes": [],
            "_model_module": "@jupyter-widgets/controls",
            "_model_module_version": "1.5.0",
            "_model_name": "HTMLModel",
            "_view_count": null,
            "_view_module": "@jupyter-widgets/controls",
            "_view_module_version": "1.5.0",
            "_view_name": "HTMLView",
            "description": "",
            "description_tooltip": null,
            "layout": "IPY_MODEL_078cebf244d447b19706500d0c6b8ae2",
            "placeholder": "​",
            "style": "IPY_MODEL_04028128deac47a38542103c402a9416",
            "value": "100%"
          }
        },
        "bfd743b5583b4531bf445e6e466ab6b0": {
          "model_module": "@jupyter-widgets/controls",
          "model_name": "FloatProgressModel",
          "model_module_version": "1.5.0",
          "state": {
            "_dom_classes": [],
            "_model_module": "@jupyter-widgets/controls",
            "_model_module_version": "1.5.0",
            "_model_name": "FloatProgressModel",
            "_view_count": null,
            "_view_module": "@jupyter-widgets/controls",
            "_view_module_version": "1.5.0",
            "_view_name": "ProgressView",
            "bar_style": "success",
            "description": "",
            "description_tooltip": null,
            "layout": "IPY_MODEL_f9e032ba0d8c4b9cb8ab184b805e032a",
            "max": 16,
            "min": 0,
            "orientation": "horizontal",
            "style": "IPY_MODEL_e2d4a0c07b2a46e1a0fe9c995e05902a",
            "value": 16
          }
        },
        "ae0da68d45a5400ca7c5fe6465c30121": {
          "model_module": "@jupyter-widgets/controls",
          "model_name": "HTMLModel",
          "model_module_version": "1.5.0",
          "state": {
            "_dom_classes": [],
            "_model_module": "@jupyter-widgets/controls",
            "_model_module_version": "1.5.0",
            "_model_name": "HTMLModel",
            "_view_count": null,
            "_view_module": "@jupyter-widgets/controls",
            "_view_module_version": "1.5.0",
            "_view_name": "HTMLView",
            "description": "",
            "description_tooltip": null,
            "layout": "IPY_MODEL_04c85122ed064199ae00d0c4ffce97ea",
            "placeholder": "​",
            "style": "IPY_MODEL_52dc8ce739174a95af344cf3e3b29582",
            "value": " 16/16 [00:24&lt;00:00,  1.28s/it]"
          }
        },
        "7061036013d542f5a76a9bfe9cc4defa": {
          "model_module": "@jupyter-widgets/base",
          "model_name": "LayoutModel",
          "model_module_version": "1.2.0",
          "state": {
            "_model_module": "@jupyter-widgets/base",
            "_model_module_version": "1.2.0",
            "_model_name": "LayoutModel",
            "_view_count": null,
            "_view_module": "@jupyter-widgets/base",
            "_view_module_version": "1.2.0",
            "_view_name": "LayoutView",
            "align_content": null,
            "align_items": null,
            "align_self": null,
            "border": null,
            "bottom": null,
            "display": null,
            "flex": null,
            "flex_flow": null,
            "grid_area": null,
            "grid_auto_columns": null,
            "grid_auto_flow": null,
            "grid_auto_rows": null,
            "grid_column": null,
            "grid_gap": null,
            "grid_row": null,
            "grid_template_areas": null,
            "grid_template_columns": null,
            "grid_template_rows": null,
            "height": null,
            "justify_content": null,
            "justify_items": null,
            "left": null,
            "margin": null,
            "max_height": null,
            "max_width": null,
            "min_height": null,
            "min_width": null,
            "object_fit": null,
            "object_position": null,
            "order": null,
            "overflow": null,
            "overflow_x": null,
            "overflow_y": null,
            "padding": null,
            "right": null,
            "top": null,
            "visibility": null,
            "width": null
          }
        },
        "078cebf244d447b19706500d0c6b8ae2": {
          "model_module": "@jupyter-widgets/base",
          "model_name": "LayoutModel",
          "model_module_version": "1.2.0",
          "state": {
            "_model_module": "@jupyter-widgets/base",
            "_model_module_version": "1.2.0",
            "_model_name": "LayoutModel",
            "_view_count": null,
            "_view_module": "@jupyter-widgets/base",
            "_view_module_version": "1.2.0",
            "_view_name": "LayoutView",
            "align_content": null,
            "align_items": null,
            "align_self": null,
            "border": null,
            "bottom": null,
            "display": null,
            "flex": null,
            "flex_flow": null,
            "grid_area": null,
            "grid_auto_columns": null,
            "grid_auto_flow": null,
            "grid_auto_rows": null,
            "grid_column": null,
            "grid_gap": null,
            "grid_row": null,
            "grid_template_areas": null,
            "grid_template_columns": null,
            "grid_template_rows": null,
            "height": null,
            "justify_content": null,
            "justify_items": null,
            "left": null,
            "margin": null,
            "max_height": null,
            "max_width": null,
            "min_height": null,
            "min_width": null,
            "object_fit": null,
            "object_position": null,
            "order": null,
            "overflow": null,
            "overflow_x": null,
            "overflow_y": null,
            "padding": null,
            "right": null,
            "top": null,
            "visibility": null,
            "width": null
          }
        },
        "04028128deac47a38542103c402a9416": {
          "model_module": "@jupyter-widgets/controls",
          "model_name": "DescriptionStyleModel",
          "model_module_version": "1.5.0",
          "state": {
            "_model_module": "@jupyter-widgets/controls",
            "_model_module_version": "1.5.0",
            "_model_name": "DescriptionStyleModel",
            "_view_count": null,
            "_view_module": "@jupyter-widgets/base",
            "_view_module_version": "1.2.0",
            "_view_name": "StyleView",
            "description_width": ""
          }
        },
        "f9e032ba0d8c4b9cb8ab184b805e032a": {
          "model_module": "@jupyter-widgets/base",
          "model_name": "LayoutModel",
          "model_module_version": "1.2.0",
          "state": {
            "_model_module": "@jupyter-widgets/base",
            "_model_module_version": "1.2.0",
            "_model_name": "LayoutModel",
            "_view_count": null,
            "_view_module": "@jupyter-widgets/base",
            "_view_module_version": "1.2.0",
            "_view_name": "LayoutView",
            "align_content": null,
            "align_items": null,
            "align_self": null,
            "border": null,
            "bottom": null,
            "display": null,
            "flex": null,
            "flex_flow": null,
            "grid_area": null,
            "grid_auto_columns": null,
            "grid_auto_flow": null,
            "grid_auto_rows": null,
            "grid_column": null,
            "grid_gap": null,
            "grid_row": null,
            "grid_template_areas": null,
            "grid_template_columns": null,
            "grid_template_rows": null,
            "height": null,
            "justify_content": null,
            "justify_items": null,
            "left": null,
            "margin": null,
            "max_height": null,
            "max_width": null,
            "min_height": null,
            "min_width": null,
            "object_fit": null,
            "object_position": null,
            "order": null,
            "overflow": null,
            "overflow_x": null,
            "overflow_y": null,
            "padding": null,
            "right": null,
            "top": null,
            "visibility": null,
            "width": null
          }
        },
        "e2d4a0c07b2a46e1a0fe9c995e05902a": {
          "model_module": "@jupyter-widgets/controls",
          "model_name": "ProgressStyleModel",
          "model_module_version": "1.5.0",
          "state": {
            "_model_module": "@jupyter-widgets/controls",
            "_model_module_version": "1.5.0",
            "_model_name": "ProgressStyleModel",
            "_view_count": null,
            "_view_module": "@jupyter-widgets/base",
            "_view_module_version": "1.2.0",
            "_view_name": "StyleView",
            "bar_color": null,
            "description_width": ""
          }
        },
        "04c85122ed064199ae00d0c4ffce97ea": {
          "model_module": "@jupyter-widgets/base",
          "model_name": "LayoutModel",
          "model_module_version": "1.2.0",
          "state": {
            "_model_module": "@jupyter-widgets/base",
            "_model_module_version": "1.2.0",
            "_model_name": "LayoutModel",
            "_view_count": null,
            "_view_module": "@jupyter-widgets/base",
            "_view_module_version": "1.2.0",
            "_view_name": "LayoutView",
            "align_content": null,
            "align_items": null,
            "align_self": null,
            "border": null,
            "bottom": null,
            "display": null,
            "flex": null,
            "flex_flow": null,
            "grid_area": null,
            "grid_auto_columns": null,
            "grid_auto_flow": null,
            "grid_auto_rows": null,
            "grid_column": null,
            "grid_gap": null,
            "grid_row": null,
            "grid_template_areas": null,
            "grid_template_columns": null,
            "grid_template_rows": null,
            "height": null,
            "justify_content": null,
            "justify_items": null,
            "left": null,
            "margin": null,
            "max_height": null,
            "max_width": null,
            "min_height": null,
            "min_width": null,
            "object_fit": null,
            "object_position": null,
            "order": null,
            "overflow": null,
            "overflow_x": null,
            "overflow_y": null,
            "padding": null,
            "right": null,
            "top": null,
            "visibility": null,
            "width": null
          }
        },
        "52dc8ce739174a95af344cf3e3b29582": {
          "model_module": "@jupyter-widgets/controls",
          "model_name": "DescriptionStyleModel",
          "model_module_version": "1.5.0",
          "state": {
            "_model_module": "@jupyter-widgets/controls",
            "_model_module_version": "1.5.0",
            "_model_name": "DescriptionStyleModel",
            "_view_count": null,
            "_view_module": "@jupyter-widgets/base",
            "_view_module_version": "1.2.0",
            "_view_name": "StyleView",
            "description_width": ""
          }
        },
        "b1a55a99599842fa81e2fd434c071367": {
          "model_module": "@jupyter-widgets/controls",
          "model_name": "HBoxModel",
          "model_module_version": "1.5.0",
          "state": {
            "_dom_classes": [],
            "_model_module": "@jupyter-widgets/controls",
            "_model_module_version": "1.5.0",
            "_model_name": "HBoxModel",
            "_view_count": null,
            "_view_module": "@jupyter-widgets/controls",
            "_view_module_version": "1.5.0",
            "_view_name": "HBoxView",
            "box_style": "",
            "children": [
              "IPY_MODEL_040c08299e3e4f36899afd624b589d04",
              "IPY_MODEL_8a305bdf25f743d2b19923a0f49ea3ba",
              "IPY_MODEL_e2fea02982074e9abe963ffda81c4186"
            ],
            "layout": "IPY_MODEL_b81e13b099954fcebaf13ed495e89bc6"
          }
        },
        "040c08299e3e4f36899afd624b589d04": {
          "model_module": "@jupyter-widgets/controls",
          "model_name": "HTMLModel",
          "model_module_version": "1.5.0",
          "state": {
            "_dom_classes": [],
            "_model_module": "@jupyter-widgets/controls",
            "_model_module_version": "1.5.0",
            "_model_name": "HTMLModel",
            "_view_count": null,
            "_view_module": "@jupyter-widgets/controls",
            "_view_module_version": "1.5.0",
            "_view_name": "HTMLView",
            "description": "",
            "description_tooltip": null,
            "layout": "IPY_MODEL_68237c7e569945a48bf81af64975338e",
            "placeholder": "​",
            "style": "IPY_MODEL_8437ea5e233d4b3a84c2a31770194d49",
            "value": "100%"
          }
        },
        "8a305bdf25f743d2b19923a0f49ea3ba": {
          "model_module": "@jupyter-widgets/controls",
          "model_name": "FloatProgressModel",
          "model_module_version": "1.5.0",
          "state": {
            "_dom_classes": [],
            "_model_module": "@jupyter-widgets/controls",
            "_model_module_version": "1.5.0",
            "_model_name": "FloatProgressModel",
            "_view_count": null,
            "_view_module": "@jupyter-widgets/controls",
            "_view_module_version": "1.5.0",
            "_view_name": "ProgressView",
            "bar_style": "success",
            "description": "",
            "description_tooltip": null,
            "layout": "IPY_MODEL_b8ec0253516144149bd46f9cdc7e0f8a",
            "max": 25,
            "min": 0,
            "orientation": "horizontal",
            "style": "IPY_MODEL_e341e00c28334322813dd9abeb48a412",
            "value": 25
          }
        },
        "e2fea02982074e9abe963ffda81c4186": {
          "model_module": "@jupyter-widgets/controls",
          "model_name": "HTMLModel",
          "model_module_version": "1.5.0",
          "state": {
            "_dom_classes": [],
            "_model_module": "@jupyter-widgets/controls",
            "_model_module_version": "1.5.0",
            "_model_name": "HTMLModel",
            "_view_count": null,
            "_view_module": "@jupyter-widgets/controls",
            "_view_module_version": "1.5.0",
            "_view_name": "HTMLView",
            "description": "",
            "description_tooltip": null,
            "layout": "IPY_MODEL_ae094d22d40a4856be7a5f33bc9eb707",
            "placeholder": "​",
            "style": "IPY_MODEL_59f64402867f4960bad17479f2d4f846",
            "value": " 25/25 [00:54&lt;00:00,  2.28s/it]"
          }
        },
        "b81e13b099954fcebaf13ed495e89bc6": {
          "model_module": "@jupyter-widgets/base",
          "model_name": "LayoutModel",
          "model_module_version": "1.2.0",
          "state": {
            "_model_module": "@jupyter-widgets/base",
            "_model_module_version": "1.2.0",
            "_model_name": "LayoutModel",
            "_view_count": null,
            "_view_module": "@jupyter-widgets/base",
            "_view_module_version": "1.2.0",
            "_view_name": "LayoutView",
            "align_content": null,
            "align_items": null,
            "align_self": null,
            "border": null,
            "bottom": null,
            "display": null,
            "flex": null,
            "flex_flow": null,
            "grid_area": null,
            "grid_auto_columns": null,
            "grid_auto_flow": null,
            "grid_auto_rows": null,
            "grid_column": null,
            "grid_gap": null,
            "grid_row": null,
            "grid_template_areas": null,
            "grid_template_columns": null,
            "grid_template_rows": null,
            "height": null,
            "justify_content": null,
            "justify_items": null,
            "left": null,
            "margin": null,
            "max_height": null,
            "max_width": null,
            "min_height": null,
            "min_width": null,
            "object_fit": null,
            "object_position": null,
            "order": null,
            "overflow": null,
            "overflow_x": null,
            "overflow_y": null,
            "padding": null,
            "right": null,
            "top": null,
            "visibility": null,
            "width": null
          }
        },
        "68237c7e569945a48bf81af64975338e": {
          "model_module": "@jupyter-widgets/base",
          "model_name": "LayoutModel",
          "model_module_version": "1.2.0",
          "state": {
            "_model_module": "@jupyter-widgets/base",
            "_model_module_version": "1.2.0",
            "_model_name": "LayoutModel",
            "_view_count": null,
            "_view_module": "@jupyter-widgets/base",
            "_view_module_version": "1.2.0",
            "_view_name": "LayoutView",
            "align_content": null,
            "align_items": null,
            "align_self": null,
            "border": null,
            "bottom": null,
            "display": null,
            "flex": null,
            "flex_flow": null,
            "grid_area": null,
            "grid_auto_columns": null,
            "grid_auto_flow": null,
            "grid_auto_rows": null,
            "grid_column": null,
            "grid_gap": null,
            "grid_row": null,
            "grid_template_areas": null,
            "grid_template_columns": null,
            "grid_template_rows": null,
            "height": null,
            "justify_content": null,
            "justify_items": null,
            "left": null,
            "margin": null,
            "max_height": null,
            "max_width": null,
            "min_height": null,
            "min_width": null,
            "object_fit": null,
            "object_position": null,
            "order": null,
            "overflow": null,
            "overflow_x": null,
            "overflow_y": null,
            "padding": null,
            "right": null,
            "top": null,
            "visibility": null,
            "width": null
          }
        },
        "8437ea5e233d4b3a84c2a31770194d49": {
          "model_module": "@jupyter-widgets/controls",
          "model_name": "DescriptionStyleModel",
          "model_module_version": "1.5.0",
          "state": {
            "_model_module": "@jupyter-widgets/controls",
            "_model_module_version": "1.5.0",
            "_model_name": "DescriptionStyleModel",
            "_view_count": null,
            "_view_module": "@jupyter-widgets/base",
            "_view_module_version": "1.2.0",
            "_view_name": "StyleView",
            "description_width": ""
          }
        },
        "b8ec0253516144149bd46f9cdc7e0f8a": {
          "model_module": "@jupyter-widgets/base",
          "model_name": "LayoutModel",
          "model_module_version": "1.2.0",
          "state": {
            "_model_module": "@jupyter-widgets/base",
            "_model_module_version": "1.2.0",
            "_model_name": "LayoutModel",
            "_view_count": null,
            "_view_module": "@jupyter-widgets/base",
            "_view_module_version": "1.2.0",
            "_view_name": "LayoutView",
            "align_content": null,
            "align_items": null,
            "align_self": null,
            "border": null,
            "bottom": null,
            "display": null,
            "flex": null,
            "flex_flow": null,
            "grid_area": null,
            "grid_auto_columns": null,
            "grid_auto_flow": null,
            "grid_auto_rows": null,
            "grid_column": null,
            "grid_gap": null,
            "grid_row": null,
            "grid_template_areas": null,
            "grid_template_columns": null,
            "grid_template_rows": null,
            "height": null,
            "justify_content": null,
            "justify_items": null,
            "left": null,
            "margin": null,
            "max_height": null,
            "max_width": null,
            "min_height": null,
            "min_width": null,
            "object_fit": null,
            "object_position": null,
            "order": null,
            "overflow": null,
            "overflow_x": null,
            "overflow_y": null,
            "padding": null,
            "right": null,
            "top": null,
            "visibility": null,
            "width": null
          }
        },
        "e341e00c28334322813dd9abeb48a412": {
          "model_module": "@jupyter-widgets/controls",
          "model_name": "ProgressStyleModel",
          "model_module_version": "1.5.0",
          "state": {
            "_model_module": "@jupyter-widgets/controls",
            "_model_module_version": "1.5.0",
            "_model_name": "ProgressStyleModel",
            "_view_count": null,
            "_view_module": "@jupyter-widgets/base",
            "_view_module_version": "1.2.0",
            "_view_name": "StyleView",
            "bar_color": null,
            "description_width": ""
          }
        },
        "ae094d22d40a4856be7a5f33bc9eb707": {
          "model_module": "@jupyter-widgets/base",
          "model_name": "LayoutModel",
          "model_module_version": "1.2.0",
          "state": {
            "_model_module": "@jupyter-widgets/base",
            "_model_module_version": "1.2.0",
            "_model_name": "LayoutModel",
            "_view_count": null,
            "_view_module": "@jupyter-widgets/base",
            "_view_module_version": "1.2.0",
            "_view_name": "LayoutView",
            "align_content": null,
            "align_items": null,
            "align_self": null,
            "border": null,
            "bottom": null,
            "display": null,
            "flex": null,
            "flex_flow": null,
            "grid_area": null,
            "grid_auto_columns": null,
            "grid_auto_flow": null,
            "grid_auto_rows": null,
            "grid_column": null,
            "grid_gap": null,
            "grid_row": null,
            "grid_template_areas": null,
            "grid_template_columns": null,
            "grid_template_rows": null,
            "height": null,
            "justify_content": null,
            "justify_items": null,
            "left": null,
            "margin": null,
            "max_height": null,
            "max_width": null,
            "min_height": null,
            "min_width": null,
            "object_fit": null,
            "object_position": null,
            "order": null,
            "overflow": null,
            "overflow_x": null,
            "overflow_y": null,
            "padding": null,
            "right": null,
            "top": null,
            "visibility": null,
            "width": null
          }
        },
        "59f64402867f4960bad17479f2d4f846": {
          "model_module": "@jupyter-widgets/controls",
          "model_name": "DescriptionStyleModel",
          "model_module_version": "1.5.0",
          "state": {
            "_model_module": "@jupyter-widgets/controls",
            "_model_module_version": "1.5.0",
            "_model_name": "DescriptionStyleModel",
            "_view_count": null,
            "_view_module": "@jupyter-widgets/base",
            "_view_module_version": "1.2.0",
            "_view_name": "StyleView",
            "description_width": ""
          }
        },
        "5ed627a8ec3a4e758cb56f22cc13701d": {
          "model_module": "@jupyter-widgets/controls",
          "model_name": "HBoxModel",
          "model_module_version": "1.5.0",
          "state": {
            "_dom_classes": [],
            "_model_module": "@jupyter-widgets/controls",
            "_model_module_version": "1.5.0",
            "_model_name": "HBoxModel",
            "_view_count": null,
            "_view_module": "@jupyter-widgets/controls",
            "_view_module_version": "1.5.0",
            "_view_name": "HBoxView",
            "box_style": "",
            "children": [
              "IPY_MODEL_1b275bd73ae8430a803a3ec7eb48dbf5",
              "IPY_MODEL_a942a37b11fc49b6829ed6f23adad627",
              "IPY_MODEL_a2b4a7520df040d0ba15944937594724"
            ],
            "layout": "IPY_MODEL_a3a981ac85534a6d9f47b68e267da289"
          }
        },
        "1b275bd73ae8430a803a3ec7eb48dbf5": {
          "model_module": "@jupyter-widgets/controls",
          "model_name": "HTMLModel",
          "model_module_version": "1.5.0",
          "state": {
            "_dom_classes": [],
            "_model_module": "@jupyter-widgets/controls",
            "_model_module_version": "1.5.0",
            "_model_name": "HTMLModel",
            "_view_count": null,
            "_view_module": "@jupyter-widgets/controls",
            "_view_module_version": "1.5.0",
            "_view_name": "HTMLView",
            "description": "",
            "description_tooltip": null,
            "layout": "IPY_MODEL_12007477482748bb88bccb90f98be4f0",
            "placeholder": "​",
            "style": "IPY_MODEL_02d54b7de5584e59b388ecce96a877c6",
            "value": "100%"
          }
        },
        "a942a37b11fc49b6829ed6f23adad627": {
          "model_module": "@jupyter-widgets/controls",
          "model_name": "FloatProgressModel",
          "model_module_version": "1.5.0",
          "state": {
            "_dom_classes": [],
            "_model_module": "@jupyter-widgets/controls",
            "_model_module_version": "1.5.0",
            "_model_name": "FloatProgressModel",
            "_view_count": null,
            "_view_module": "@jupyter-widgets/controls",
            "_view_module_version": "1.5.0",
            "_view_name": "ProgressView",
            "bar_style": "success",
            "description": "",
            "description_tooltip": null,
            "layout": "IPY_MODEL_529e6d3455474867a63269286f9a3323",
            "max": 16,
            "min": 0,
            "orientation": "horizontal",
            "style": "IPY_MODEL_389f0ae372034a209307aea45f6dee3a",
            "value": 16
          }
        },
        "a2b4a7520df040d0ba15944937594724": {
          "model_module": "@jupyter-widgets/controls",
          "model_name": "HTMLModel",
          "model_module_version": "1.5.0",
          "state": {
            "_dom_classes": [],
            "_model_module": "@jupyter-widgets/controls",
            "_model_module_version": "1.5.0",
            "_model_name": "HTMLModel",
            "_view_count": null,
            "_view_module": "@jupyter-widgets/controls",
            "_view_module_version": "1.5.0",
            "_view_name": "HTMLView",
            "description": "",
            "description_tooltip": null,
            "layout": "IPY_MODEL_31db3cc77d9f43f7a2aa4a6106dcb554",
            "placeholder": "​",
            "style": "IPY_MODEL_fd5985e0a2a54ae286085b67a8612933",
            "value": " 16/16 [00:22&lt;00:00,  1.32s/it]"
          }
        },
        "a3a981ac85534a6d9f47b68e267da289": {
          "model_module": "@jupyter-widgets/base",
          "model_name": "LayoutModel",
          "model_module_version": "1.2.0",
          "state": {
            "_model_module": "@jupyter-widgets/base",
            "_model_module_version": "1.2.0",
            "_model_name": "LayoutModel",
            "_view_count": null,
            "_view_module": "@jupyter-widgets/base",
            "_view_module_version": "1.2.0",
            "_view_name": "LayoutView",
            "align_content": null,
            "align_items": null,
            "align_self": null,
            "border": null,
            "bottom": null,
            "display": null,
            "flex": null,
            "flex_flow": null,
            "grid_area": null,
            "grid_auto_columns": null,
            "grid_auto_flow": null,
            "grid_auto_rows": null,
            "grid_column": null,
            "grid_gap": null,
            "grid_row": null,
            "grid_template_areas": null,
            "grid_template_columns": null,
            "grid_template_rows": null,
            "height": null,
            "justify_content": null,
            "justify_items": null,
            "left": null,
            "margin": null,
            "max_height": null,
            "max_width": null,
            "min_height": null,
            "min_width": null,
            "object_fit": null,
            "object_position": null,
            "order": null,
            "overflow": null,
            "overflow_x": null,
            "overflow_y": null,
            "padding": null,
            "right": null,
            "top": null,
            "visibility": null,
            "width": null
          }
        },
        "12007477482748bb88bccb90f98be4f0": {
          "model_module": "@jupyter-widgets/base",
          "model_name": "LayoutModel",
          "model_module_version": "1.2.0",
          "state": {
            "_model_module": "@jupyter-widgets/base",
            "_model_module_version": "1.2.0",
            "_model_name": "LayoutModel",
            "_view_count": null,
            "_view_module": "@jupyter-widgets/base",
            "_view_module_version": "1.2.0",
            "_view_name": "LayoutView",
            "align_content": null,
            "align_items": null,
            "align_self": null,
            "border": null,
            "bottom": null,
            "display": null,
            "flex": null,
            "flex_flow": null,
            "grid_area": null,
            "grid_auto_columns": null,
            "grid_auto_flow": null,
            "grid_auto_rows": null,
            "grid_column": null,
            "grid_gap": null,
            "grid_row": null,
            "grid_template_areas": null,
            "grid_template_columns": null,
            "grid_template_rows": null,
            "height": null,
            "justify_content": null,
            "justify_items": null,
            "left": null,
            "margin": null,
            "max_height": null,
            "max_width": null,
            "min_height": null,
            "min_width": null,
            "object_fit": null,
            "object_position": null,
            "order": null,
            "overflow": null,
            "overflow_x": null,
            "overflow_y": null,
            "padding": null,
            "right": null,
            "top": null,
            "visibility": null,
            "width": null
          }
        },
        "02d54b7de5584e59b388ecce96a877c6": {
          "model_module": "@jupyter-widgets/controls",
          "model_name": "DescriptionStyleModel",
          "model_module_version": "1.5.0",
          "state": {
            "_model_module": "@jupyter-widgets/controls",
            "_model_module_version": "1.5.0",
            "_model_name": "DescriptionStyleModel",
            "_view_count": null,
            "_view_module": "@jupyter-widgets/base",
            "_view_module_version": "1.2.0",
            "_view_name": "StyleView",
            "description_width": ""
          }
        },
        "529e6d3455474867a63269286f9a3323": {
          "model_module": "@jupyter-widgets/base",
          "model_name": "LayoutModel",
          "model_module_version": "1.2.0",
          "state": {
            "_model_module": "@jupyter-widgets/base",
            "_model_module_version": "1.2.0",
            "_model_name": "LayoutModel",
            "_view_count": null,
            "_view_module": "@jupyter-widgets/base",
            "_view_module_version": "1.2.0",
            "_view_name": "LayoutView",
            "align_content": null,
            "align_items": null,
            "align_self": null,
            "border": null,
            "bottom": null,
            "display": null,
            "flex": null,
            "flex_flow": null,
            "grid_area": null,
            "grid_auto_columns": null,
            "grid_auto_flow": null,
            "grid_auto_rows": null,
            "grid_column": null,
            "grid_gap": null,
            "grid_row": null,
            "grid_template_areas": null,
            "grid_template_columns": null,
            "grid_template_rows": null,
            "height": null,
            "justify_content": null,
            "justify_items": null,
            "left": null,
            "margin": null,
            "max_height": null,
            "max_width": null,
            "min_height": null,
            "min_width": null,
            "object_fit": null,
            "object_position": null,
            "order": null,
            "overflow": null,
            "overflow_x": null,
            "overflow_y": null,
            "padding": null,
            "right": null,
            "top": null,
            "visibility": null,
            "width": null
          }
        },
        "389f0ae372034a209307aea45f6dee3a": {
          "model_module": "@jupyter-widgets/controls",
          "model_name": "ProgressStyleModel",
          "model_module_version": "1.5.0",
          "state": {
            "_model_module": "@jupyter-widgets/controls",
            "_model_module_version": "1.5.0",
            "_model_name": "ProgressStyleModel",
            "_view_count": null,
            "_view_module": "@jupyter-widgets/base",
            "_view_module_version": "1.2.0",
            "_view_name": "StyleView",
            "bar_color": null,
            "description_width": ""
          }
        },
        "31db3cc77d9f43f7a2aa4a6106dcb554": {
          "model_module": "@jupyter-widgets/base",
          "model_name": "LayoutModel",
          "model_module_version": "1.2.0",
          "state": {
            "_model_module": "@jupyter-widgets/base",
            "_model_module_version": "1.2.0",
            "_model_name": "LayoutModel",
            "_view_count": null,
            "_view_module": "@jupyter-widgets/base",
            "_view_module_version": "1.2.0",
            "_view_name": "LayoutView",
            "align_content": null,
            "align_items": null,
            "align_self": null,
            "border": null,
            "bottom": null,
            "display": null,
            "flex": null,
            "flex_flow": null,
            "grid_area": null,
            "grid_auto_columns": null,
            "grid_auto_flow": null,
            "grid_auto_rows": null,
            "grid_column": null,
            "grid_gap": null,
            "grid_row": null,
            "grid_template_areas": null,
            "grid_template_columns": null,
            "grid_template_rows": null,
            "height": null,
            "justify_content": null,
            "justify_items": null,
            "left": null,
            "margin": null,
            "max_height": null,
            "max_width": null,
            "min_height": null,
            "min_width": null,
            "object_fit": null,
            "object_position": null,
            "order": null,
            "overflow": null,
            "overflow_x": null,
            "overflow_y": null,
            "padding": null,
            "right": null,
            "top": null,
            "visibility": null,
            "width": null
          }
        },
        "fd5985e0a2a54ae286085b67a8612933": {
          "model_module": "@jupyter-widgets/controls",
          "model_name": "DescriptionStyleModel",
          "model_module_version": "1.5.0",
          "state": {
            "_model_module": "@jupyter-widgets/controls",
            "_model_module_version": "1.5.0",
            "_model_name": "DescriptionStyleModel",
            "_view_count": null,
            "_view_module": "@jupyter-widgets/base",
            "_view_module_version": "1.2.0",
            "_view_name": "StyleView",
            "description_width": ""
          }
        }
      }
    }
  },
  "cells": [
    {
      "cell_type": "markdown",
      "metadata": {
        "id": "view-in-github",
        "colab_type": "text"
      },
      "source": [
        "<a href=\"https://colab.research.google.com/github/anguelos/cv_ws_2023/blob/main/pytorch_hello.ipynb\" target=\"_parent\"><img src=\"https://colab.research.google.com/assets/colab-badge.svg\" alt=\"Open In Colab\"/></a>"
      ]
    },
    {
      "cell_type": "markdown",
      "source": [
        "Add this file to your google drive\n",
        "\n",
        "https://drive.google.com/file/d/1f-aifnIpNVUEmugf9H_mgorGnE2Y9mXg/view?usp=share_link\n",
        "\n",
        "1) Add a shortcut to this URL inside the drive"
      ],
      "metadata": {
        "id": "mrWcK6PHzpXX"
      }
    },
    {
      "cell_type": "markdown",
      "source": [
        "2)Verify shortcut in your drive\n",
        "![google_drive_link_to_shortcut.png](data:image/png;base64,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)"
      ],
      "metadata": {
        "id": "GnArBix8zzYq"
      }
    },
    {
      "cell_type": "markdown",
      "source": [
        "3)![Screenshot from 2023-02-07 17-43-54.png](data:image/png;base64,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)\n",
        "\n",
        "4) Authorize with the google account you used for the shortcut\n",
        "\n"
      ],
      "metadata": {
        "id": "fI3eyHysu6N-"
      }
    },
    {
      "cell_type": "markdown",
      "source": [
        "4) Authorize with the google account you used for the shortcut\n",
        "![Screenshot from 2023-02-07 17-44-31.png](data:image/png;base64,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)"
      ],
      "metadata": {
        "id": "dkTFR6GvzBOH"
      }
    },
    {
      "cell_type": "markdown",
      "source": [
        "5)Make sure you agree with granting those permission to google.colab\n",
        "![Screenshot from 2023-02-07 17-46-16.png](data:image/png;base64,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)"
      ],
      "metadata": {
        "id": "BSslqZvFy7yn"
      }
    },
    {
      "cell_type": "markdown",
      "source": [
        "6)Never forget this is using 442 MB of you google drive storage until you delete it"
      ],
      "metadata": {
        "id": "KPTEebdH0BlB"
      }
    },
    {
      "cell_type": "markdown",
      "source": [
        "Mount our google drive into our colab virtual machine"
      ],
      "metadata": {
        "id": "REiGtHBP1Niy"
      }
    },
    {
      "cell_type": "code",
      "execution_count": 20,
      "metadata": {
        "colab": {
          "base_uri": "https://localhost:8080/"
        },
        "id": "aCSSCCISu4Ae",
        "outputId": "3f0dfdc4-ae46-4254-e69c-8b724a57627c"
      },
      "outputs": [
        {
          "output_type": "stream",
          "name": "stdout",
          "text": [
            "Mounted at /mnt/drive\n"
          ]
        }
      ],
      "source": [
        "import glob\n",
        "from google.colab import drive\n",
        "#if len(glob.glob(\"/mnt/drive/*\")) == 0:\n",
        "drive.mount(\"/mnt/drive\", force_remount=True)"
      ]
    },
    {
      "cell_type": "markdown",
      "source": [
        "Did we succeed?"
      ],
      "metadata": {
        "id": "UBBGfN531D75"
      }
    },
    {
      "cell_type": "code",
      "source": [
        "# Diwe succeed????\n",
        "assert list(glob.glob(\"/mnt/drive/MyDrive/century_*gz\"))[0]==\"/mnt/drive/MyDrive/century_ds.tar.gz\""
      ],
      "metadata": {
        "id": "cpNYjhmdwktt"
      },
      "execution_count": 21,
      "outputs": []
    },
    {
      "cell_type": "markdown",
      "source": [
        "Lets unzip the dataset"
      ],
      "metadata": {
        "id": "IFPjb-N52Wia"
      }
    },
    {
      "cell_type": "code",
      "source": [
        "!tar -xpvzf /mnt/drive/MyDrive/century_ds.tar.gz > /dev/null"
      ],
      "metadata": {
        "id": "QlxvAniz2Yuq"
      },
      "execution_count": 22,
      "outputs": []
    },
    {
      "cell_type": "code",
      "source": [
        "!pip install --upgrade tensorboardX"
      ],
      "metadata": {
        "colab": {
          "base_uri": "https://localhost:8080/"
        },
        "id": "PJkpU7exHTqk",
        "outputId": "5da748e3-7c01-4487-8383-1c84b001950a"
      },
      "execution_count": 23,
      "outputs": [
        {
          "output_type": "stream",
          "name": "stdout",
          "text": [
            "Looking in indexes: https://pypi.org/simple, https://us-python.pkg.dev/colab-wheels/public/simple/\n",
            "Requirement already satisfied: tensorboardX in /usr/local/lib/python3.8/dist-packages (2.5.1)\n",
            "Requirement already satisfied: protobuf<=3.20.1,>=3.8.0 in /usr/local/lib/python3.8/dist-packages (from tensorboardX) (3.19.6)\n",
            "Requirement already satisfied: numpy in /usr/local/lib/python3.8/dist-packages (from tensorboardX) (1.21.6)\n"
          ]
        }
      ]
    },
    {
      "cell_type": "markdown",
      "source": [
        "# Data Loading \n",
        "\n",
        "Outline of the steps involved in creating and training a classification model to predict whether a photo was taken in 19th or 20th century. Briefly, the steps will be:\n",
        "\n",
        "- Load the data\n",
        "- Create a model\n",
        "- Train the model"
      ],
      "metadata": {
        "id": "oS4la9TuWnmE"
      }
    },
    {
      "cell_type": "code",
      "source": [
        "import os\n",
        "import glob\n",
        "import torch\n",
        "import torchvision\n",
        "from PIL import Image\n",
        "import random\n",
        "from tqdm.auto import tqdm as tqdm\n",
        "import torch.nn as nn\n",
        "import torch.nn.functional as F\n",
        "import torch.optim as optim\n",
        "from matplotlib import pyplot as plt\n",
        "import numpy\n",
        "\n",
        "#import torchvision.utils as vutils\n",
        "\n"
      ],
      "metadata": {
        "id": "8mVtRLmP4qtR"
      },
      "execution_count": 24,
      "outputs": []
    },
    {
      "cell_type": "markdown",
      "source": [
        "Checking for device:"
      ],
      "metadata": {
        "id": "yJuRmhD6W2wm"
      }
    },
    {
      "cell_type": "code",
      "source": [
        "device = torch.device('cuda' if torch.cuda.is_available() else 'cpu')\n",
        "print(f\"Working on {device}\")"
      ],
      "metadata": {
        "colab": {
          "base_uri": "https://localhost:8080/"
        },
        "id": "rWrW1v2m4_iK",
        "outputId": "4c4775ad-b8a0-423f-89bb-c6d4a7ca2ca2"
      },
      "execution_count": 25,
      "outputs": [
        {
          "output_type": "stream",
          "name": "stdout",
          "text": [
            "Working on cpu\n"
          ]
        }
      ]
    },
    {
      "cell_type": "markdown",
      "source": [
        "# Preprocessing\n",
        "\n",
        "Usually, we are going to start to build our Deep Learning pipeline with preprocessing (=transformation process).\n",
        "\n",
        "This is a process to change the original values of image pixels to a set of new values.\n",
        "\n",
        "One type of transformation that we do on images is to transform an image into a PyTorch tensor.\n"
      ],
      "metadata": {
        "id": "t7Vj6rDkW8Ob"
      }
    },
    {
      "cell_type": "code",
      "source": [
        "preprocess = torchvision.transforms.Compose([\n",
        "    lambda x:x.convert(\"RGB\"),\n",
        "    torchvision.transforms.CenterCrop((150,150)), #make sure, all the pictures are the same size\n",
        "    torchvision.transforms.ToTensor(),\n",
        "    torchvision.transforms.Normalize([0.5,0.5,0.5], [0.5,0.5,0.5])\n",
        "])"
      ],
      "metadata": {
        "id": "8z4Pah9l5vdT"
      },
      "execution_count": 26,
      "outputs": []
    },
    {
      "cell_type": "markdown",
      "source": [
        "### Why images of the same size (and channels)?\n",
        "\n",
        "Variable sized images cannot be combined in a batch!\n",
        "\n",
        "_A batch, for PyTorch, will be transformed to a single Tensor input with one extra dimension. For example, if you provide a list of n images, each of the size [1, 3, 384, 320], PyTorch will stack them, so that your model has a single Tensor input, of the shape [n, 1, 3, 384, 320]. This \"stacking\" can only happen between images of the same shape.\n",
        "(https://stackoverflow.com/questions/62719641/why-pytorch-model-takes-multiple-image-size-inside-the-model)_\n",
        "\n",
        "\n",
        "#### Why normalization?\n",
        "\n",
        "_The normalization of images is a very good practice when we work with deep neural networks. Normalizing the images means transforming the images into such values that the mean and standard deviation of the image become 0.0 and 1.0 respectively. Normalization helps get data within a range and reduces the skewness which helps learn faster and better. Normalization can also tackle the diminishing and exploding gradients problems. \n",
        "(https://www.geeksforgeeks.org/how-to-normalize-images-in-pytorch/)_"
      ],
      "metadata": {
        "id": "K2YB380_XH9V"
      }
    },
    {
      "cell_type": "markdown",
      "source": [
        "# PyTorch Dataset and DataLoader\n",
        "\n",
        "#### ImageFolder\n",
        "\n",
        "This class helps us to easily create PyTorch training and validation datasets __without writing custom classes__. Then we can use these datasets to create our __iterable data loaders__.\n",
        "\n",
        "Option 1 - ImageFolder class (https://pytorch.org/vision/main/generated/torchvision.datasets.ImageFolder.html) \n",
        "\n",
        "Option 2 - a custom class (https://pytorch.org/tutorials/beginner/basics/data_tutorial.html?highlight=dataset)\n",
        "\n",
        "\n",
        "## Iterable data loaders?\n",
        "\n",
        "Training a whole dataset might be very time-consuming and can cause a memory-oveload, if we did gradient calculation on whole data. \n",
        "\n",
        "A better way is to divide samples into smaller batches. To do that, we will create a Dataloader, that helps load data into a model. Dataloader will basically make a batch iteration and calculation for us.  \n",
        "\n",
        "_(DataLoader class is available in the torch.utils.data module.)_\n",
        "\n",
        "__DataLoader will be used in our training loop.__\n",
        "\n",
        "You need to parse the data as a PyTorch Dataset before passing it to DataLoader!"
      ],
      "metadata": {
        "id": "A76X6NKeXPdt"
      }
    },
    {
      "cell_type": "code",
      "source": [
        "# #Dataloader --> Option 1:\n",
        "\n",
        "# #Path to directory containig ...\n",
        "# img_dir='../data/century_ds/'\n",
        "\n",
        "# batch_size = 32\n",
        "# labels = (\"19\",\"20\")\n",
        "\n",
        "# orig_ds = torchvision.datasets.ImageFolder(img_dir,transform=preprocess)\n",
        "# #Our dataset is now in the form of PyTorch Dataset\n",
        "\n",
        "# #Next step is to devide the dataset into Training and Test dataset\n",
        "\n",
        "# # get num of indices\n",
        "# i_num = len(orig_ds)\n",
        "\n",
        "# # generate & shuffle indices\n",
        "# indices = numpy.arange(i_num)\n",
        "# indices = numpy.random.permutation(indices)\n",
        "\n",
        "# train_indices = indices [:800]\n",
        "# test_indices = indices[800:]\n",
        "\n",
        "\n",
        "# train_ds = torch.utils.data.Subset(orig_ds, train_indices)  # first 800\n",
        "# test_ds = torch.utils.data.Subset(orig_ds, test_indices)  # last 498\n",
        "\n",
        "# train_dl = torch.utils.data.DataLoader(train_ds, batch_size = batch_size, shuffle = True)\n",
        "# test_dl = torch.utils.data.DataLoader(test_ds, batch_size = batch_size, shuffle = True)\n"
      ],
      "metadata": {
        "id": "I5GnYcugXdSm"
      },
      "execution_count": null,
      "outputs": []
    },
    {
      "cell_type": "code",
      "source": [
        "#Dataloader --> Option 2:\n",
        "\n",
        "#List of paths to images...\n",
        "\n",
        "img_paths=list(glob.glob(\"century_ds/*/*.jpg\"))\n",
        "print(f\"Loaded {len(img_paths)} images\")\n",
        "\n",
        "#Shuffle\n",
        "shuffled_paths = [p for p in img_paths]\n",
        "random.Random(1337).shuffle(shuffled_paths) # Random(1337); Stabillity while mixing classes for balanced partitioning\n",
        "\n",
        "train_paths, test_paths = shuffled_paths[:800], shuffled_paths[800:]\n",
        "\n",
        "default_labels = (\"19\",\"20\")\n",
        "class CenturyDs(object):\n",
        "    def __init__(self, img_paths, labels=default_labels, preprocessor=preprocess, label_idx=-2):\n",
        "        self.img_paths = img_paths\n",
        "        self.preprocessor=preprocessor\n",
        "        self.labels = [cl for cl in labels]\n",
        "        self.label_idx = label_idx\n",
        "\n",
        "    def __getitem__(self, n):\n",
        "        path = self.img_paths[n]\n",
        "        img = Image.open(path) # Img is a PIL.Image\n",
        "        img = self.preprocessor(img)# Img is now a 3D tensor\n",
        "        label = path.split(\"/\")[self.label_idx]\n",
        "        #print(f\"path:{path}  label:{label}\")\n",
        "        cl_id = self.labels.index(label)  # id is 0,1\n",
        "        return img, cl_id\n",
        "        \n",
        "    def __len__(self):\n",
        "        return len(self.img_paths)"
      ],
      "metadata": {
        "colab": {
          "base_uri": "https://localhost:8080/"
        },
        "id": "RDsqfHnZXpkL",
        "outputId": "add39910-0546-4fe8-a060-d9f557fcba5d"
      },
      "execution_count": 27,
      "outputs": [
        {
          "output_type": "stream",
          "name": "stdout",
          "text": [
            "Loaded 1298 images\n"
          ]
        }
      ]
    },
    {
      "cell_type": "code",
      "source": [
        "batch_size = 32\n"
      ],
      "metadata": {
        "id": "suFK2ing6V5K"
      },
      "execution_count": 28,
      "outputs": []
    },
    {
      "cell_type": "code",
      "source": [
        "\n",
        "train_ds = CenturyDs(train_paths,preprocessor = preprocess)\n",
        "test_ds = CenturyDs(test_paths,preprocessor = preprocess)\n",
        "\n",
        "train_dl = torch.utils.data.DataLoader(train_ds, batch_size = batch_size, shuffle = True)\n",
        "test_dl = torch.utils.data.DataLoader(test_ds, batch_size = batch_size, shuffle = True)"
      ],
      "metadata": {
        "id": "NkjceSPK5xQd"
      },
      "execution_count": 29,
      "outputs": []
    },
    {
      "cell_type": "code",
      "source": [
        "x, y = train_ds[8]\n",
        "plt.imshow(x.numpy()[0])\n",
        "print(y)\n",
        "print(x.shape)"
      ],
      "metadata": {
        "colab": {
          "base_uri": "https://localhost:8080/",
          "height": 304
        },
        "id": "411wmsDU9k4q",
        "outputId": "3f11490b-d338-4655-e935-616666ffd42d"
      },
      "execution_count": 30,
      "outputs": [
        {
          "output_type": "stream",
          "name": "stdout",
          "text": [
            "0\n",
            "torch.Size([3, 150, 150])\n"
          ]
        },
        {
          "output_type": "display_data",
          "data": {
            "text/plain": [
              "<Figure size 432x288 with 1 Axes>"
            ],
            "image/png": "[encoded data removed]"
          },
          "metadata": {
            "needs_background": "light"
          }
        }
      ]
    },
    {
      "cell_type": "markdown",
      "source": [
        "# --------------------------------------------------------------------------------------------------------------------------------------------"
      ],
      "metadata": {
        "id": "ccmxODy0Ym0z"
      }
    },
    {
      "cell_type": "markdown",
      "source": [
        "# Create a model"
      ],
      "metadata": {
        "id": "nX7KTKMEZCOM"
      }
    },
    {
      "cell_type": "code",
      "source": [
        "class OurNet(nn.Module):\n",
        "    def __init__(self, n_channels=3):\n",
        "        super().__init__()\n",
        "        self.conv1 = nn.Conv2d(n_channels, 16, 5)\n",
        "        self.pool1 = nn.MaxPool2d(2, 2)\n",
        "        self.conv2 = nn.Conv2d(16, 32, 5)\n",
        "        self.pool2 = nn.MaxPool2d(2, 2)\n",
        "        \n",
        "        self.conv3 = nn.Conv2d(32, 64, 3)\n",
        "        self.pool3 = nn.MaxPool2d(2, 2)\n",
        "        self.conv4 = nn.Conv2d(64, 128, 3)\n",
        "        self.pool4 = nn.MaxPool2d(2, 2)\n",
        "        \n",
        "        self.conv5 = nn.Conv2d(128, 256, 3, padding=1)\n",
        "        self.pool5 = nn.MaxPool2d(2, 2)\n",
        "        self.conv6 = nn.Conv2d(256, 512, 3, padding=1)\n",
        "        self.pool6 = nn.MaxPool2d(2, 2)\n",
        "        \n",
        "        self.fc1 = nn.Linear(512, 1024)\n",
        "        self.fc2 = nn.Linear(1024, 768)\n",
        "        self.fc3 = nn.Linear(768, 2)\n",
        "\n",
        "    def forward(self, x):\n",
        "        x = self.pool1(F.relu(self.conv1(x)))\n",
        "        x = self.pool2(F.relu(self.conv2(x)))\n",
        "        x = self.pool3(F.relu(self.conv3(x)))\n",
        "        x = self.pool4(F.relu(self.conv4(x)))\n",
        "        x = self.pool5(F.relu(self.conv5(x)))\n",
        "        x = self.pool6(F.relu(self.conv6(x)))\n",
        "        #print(x.size())\n",
        "        x = torch.flatten(x, 1) # flatten all dimensions except batch\n",
        "        x = F.relu(self.fc1(x))\n",
        "        x = F.relu(self.fc2(x))\n",
        "        x = self.fc3(x)\n",
        "        return x\n",
        "\n",
        "def count_parameters(model):\n",
        "  return sum([t.view(-1).size(0) for t in model.parameters()])\n",
        "\n",
        "print(f\"OurNet size={count_parameters(OurNet())}\")"
      ],
      "metadata": {
        "colab": {
          "base_uri": "https://localhost:8080/"
        },
        "id": "WtuZc3WV9viw",
        "outputId": "53740899-1074-4c02-97ef-9cee01bbf308"
      },
      "execution_count": 31,
      "outputs": [
        {
          "output_type": "stream",
          "name": "stdout",
          "text": [
            "OurNet size=2895778\n"
          ]
        }
      ]
    },
    {
      "cell_type": "code",
      "source": [
        "model = OurNet(n_channels=3)\n",
        "\n",
        "lr = 1e-3 # 1e-3 is a default lr value for Adam\n",
        "optimizer = optim.Adam(model.parameters(), lr=lr)\n",
        "\n",
        "lossfn = nn.CrossEntropyLoss()\n"
      ],
      "metadata": {
        "id": "VIhHDzO2-0bu"
      },
      "execution_count": 32,
      "outputs": []
    },
    {
      "cell_type": "markdown",
      "source": [
        "### Training"
      ],
      "metadata": {
        "id": "-eaZby8bZL35"
      }
    },
    {
      "cell_type": "code",
      "source": [
        "\n",
        "\n",
        "def train_epoch(dl, model, optimiser, lossfn, device=device, epochnum=-1):\n",
        "    model = model.to(device) # redundant\n",
        "    model.train(True) # make it train mode\n",
        "    predictions, targets, losses = [], [], []\n",
        "    \n",
        "    for input_batch, target_batch in tqdm(dl):\n",
        "        input_batch, target_batch = input_batch.to(device), target_batch.to(device)\n",
        "        optimiser.zero_grad() # reset gradient accumulation\n",
        "        output_batch = model(input_batch)\n",
        "        _, batch_prediction = output_batch.detach().max(dim=1)\n",
        "        loss = lossfn(output_batch,target_batch)\n",
        "        loss.backward()# minize\n",
        "        optimiser.step() # apply gradients on the weight\n",
        "        _, batch_prediction = output_batch.detach().max(dim=1)\n",
        "        losses.append(loss.detach())\n",
        "        predictions.append(batch_prediction)\n",
        "        targets.append(target_batch.detach())\n",
        "    predictions, targets = [torch.cat(t, dim=0).cpu().numpy() for t in (predictions, targets)]\n",
        "    acc = (predictions==targets).mean()\n",
        "    return acc, predictions, targets, losses \n",
        "\n"
      ],
      "metadata": {
        "id": "a9TCkAZt_HB_"
      },
      "execution_count": 33,
      "outputs": []
    },
    {
      "cell_type": "markdown",
      "source": [
        "### Evaluation"
      ],
      "metadata": {
        "id": "YxRrIJ7dZSvm"
      }
    },
    {
      "cell_type": "code",
      "source": [
        "def eval_epoch(dl, model, device=device):\n",
        "    model = model.to(device) # redundant\n",
        "    model.train(False) # no train mode\n",
        "    predictions, targets = [], []\n",
        "    with torch.no_grad():\n",
        "        for input_batch, target_batch in tqdm(dl):\n",
        "            input_batch, target_batch = input_batch.to(device), target_batch.to(device)\n",
        "            output_batch = model(input_batch)\n",
        "            confidence, batch_prediction = output_batch.max(dim=1)\n",
        "            predictions.append(batch_prediction)\n",
        "            targets.append(target_batch)\n",
        "\n",
        "    predictions, targets = [torch.cat(t, dim=0).cpu().numpy() for t in (predictions, targets)]\n",
        "    acc = (predictions==targets).mean()\n",
        "    # anguelos: better avoid printing inside a function returning accuracy\n",
        "    return acc, predictions, targets, confidence\n",
        "\n",
        "accuracy, all_predictions, all_gt, confidences = eval_epoch(test_dl, model, device=device)\n",
        "print(accuracy)"
      ],
      "metadata": {
        "colab": {
          "base_uri": "https://localhost:8080/",
          "height": 66,
          "referenced_widgets": [
            "3a3af79866184631815416a9d89876ee",
            "4b54e4c55c724363b12be9d1951d526f",
            "a2e0bb27933a4fcdaa98f6581e2e19be",
            "d01fa02c2e634df892a7a73fb2e83e9e",
            "719f4c7786a64c05bba482ac991fb4d9",
            "a1cd959e0c584511a04771c5e2c176dd",
            "79d02e6844584d7ebca84b53d6ddfb56",
            "ac14d657698d43ac81c75634ede55be1",
            "a288d058702c41e180c27d1930790376",
            "525922dc82224b80be724dd754a6c4d5",
            "1449bffda2c741eda12a4cc1a927cf52"
          ]
        },
        "id": "07C63sdfBaE7",
        "outputId": "99dde0dd-e404-4357-b53c-3f3f246b2d8c"
      },
      "execution_count": 34,
      "outputs": [
        {
          "output_type": "display_data",
          "data": {
            "text/plain": [
              "  0%|          | 0/16 [00:00<?, ?it/s]"
            ],
            "application/vnd.jupyter.widget-view+json": {
              "version_major": 2,
              "version_minor": 0,
              "model_id": "3a3af79866184631815416a9d89876ee"
            }
          },
          "metadata": {}
        },
        {
          "output_type": "stream",
          "name": "stdout",
          "text": [
            "0.4839357429718876\n"
          ]
        }
      ]
    },
    {
      "cell_type": "markdown",
      "source": [
        "# Train the model\n",
        "\n",
        "### Optimizing and evaluating the model over the number of epochs:"
      ],
      "metadata": {
        "id": "Q1eiwvWHZYBQ"
      }
    },
    {
      "cell_type": "code",
      "source": [
        "for epoch in range(3):\n",
        "    tr_acc, tr_predictions, tr_targets, tr_losses = train_epoch(train_dl, model, optimizer, lossfn, device=device)\n",
        "    val_acc, val_predictions, val_targets, val_confidences = eval_epoch(test_dl, model, device=device)"
      ],
      "metadata": {
        "colab": {
          "base_uri": "https://localhost:8080/",
          "height": 209,
          "referenced_widgets": [
            "ce0283a03c5a4156a21eef0907a28aa9",
            "e7989f70a0f840b6a7895e2e9db83357",
            "7d2bb5b517fe439ca132ebfebd512d58",
            "8474d796ba304307b24a6f14f76734d4",
            "c40308b4ca7549e19b1c9d231aa164ea",
            "c09279d804c84e0eaac69abffd22ba1d",
            "9e0d90a75c994cc0886142ae01fa0c5b",
            "e6694a62f5574a5489d676d2c9cd3d1a",
            "cf1a760a963a4add85b94024bcf217f5",
            "4875f7dec4d443ba9ea1402ca55adc4a",
            "4d98bf2bbd984699987e0458469da8c7",
            "d478b9eb433f4a7ca3c5081f14c47b4a",
            "d4f3b9590cbc40f7836f26345a3bc522",
            "c5ca4e04b45c4800a3b09cb26da460f7",
            "1b14d81c53374ef482e066059a8755e1",
            "c39715c949864189b3d4dff7a28f53bd",
            "f286daef65f7488793f42be8e111c7a4",
            "3cd91a9493354d6785f2414679e49bf3",
            "9bbab41faecd4710a5d0e533572992f8",
            "794ecbd993c94b3b80c927ee515da6c3",
            "1b7933963a5f479f9d78a8c59a7f5468",
            "0d780aa00cdf45f2b19281aa2d71a926",
            "c0347655aafe43a495ec8f5d8903f4c1",
            "1f85d03301da49ebb6a88c0aafcfc819",
            "59427b92e23c4ca0b41e17be44422a9b",
            "d3d614cccafd4f1785cbac5689c413ba",
            "c1a7ce42ed6a4a3a9cd27411dddf5643",
            "313ef80a27e0422b815e59199c3dd081",
            "3cde3a6bc21649e9beffd7d3d0f7d012",
            "d0f2d71f781d4e9d84d01d7723510fca",
            "701b234371b74908b46e508b1779a9d1",
            "6cb7129bb06a4abf849489f26947a530",
            "a9bc4640caf9406384bb152e4ebdb93f",
            "a832ce05c8ee440790da12965b27c164",
            "e4939ffdce5d4bf09c654f8c1f5cb910",
            "bfd743b5583b4531bf445e6e466ab6b0",
            "ae0da68d45a5400ca7c5fe6465c30121",
            "7061036013d542f5a76a9bfe9cc4defa",
            "078cebf244d447b19706500d0c6b8ae2",
            "04028128deac47a38542103c402a9416",
            "f9e032ba0d8c4b9cb8ab184b805e032a",
            "e2d4a0c07b2a46e1a0fe9c995e05902a",
            "04c85122ed064199ae00d0c4ffce97ea",
            "52dc8ce739174a95af344cf3e3b29582",
            "b1a55a99599842fa81e2fd434c071367",
            "040c08299e3e4f36899afd624b589d04",
            "8a305bdf25f743d2b19923a0f49ea3ba",
            "e2fea02982074e9abe963ffda81c4186",
            "b81e13b099954fcebaf13ed495e89bc6",
            "68237c7e569945a48bf81af64975338e",
            "8437ea5e233d4b3a84c2a31770194d49",
            "b8ec0253516144149bd46f9cdc7e0f8a",
            "e341e00c28334322813dd9abeb48a412",
            "ae094d22d40a4856be7a5f33bc9eb707",
            "59f64402867f4960bad17479f2d4f846",
            "5ed627a8ec3a4e758cb56f22cc13701d",
            "1b275bd73ae8430a803a3ec7eb48dbf5",
            "a942a37b11fc49b6829ed6f23adad627",
            "a2b4a7520df040d0ba15944937594724",
            "a3a981ac85534a6d9f47b68e267da289",
            "12007477482748bb88bccb90f98be4f0",
            "02d54b7de5584e59b388ecce96a877c6",
            "529e6d3455474867a63269286f9a3323",
            "389f0ae372034a209307aea45f6dee3a",
            "31db3cc77d9f43f7a2aa4a6106dcb554",
            "fd5985e0a2a54ae286085b67a8612933"
          ]
        },
        "id": "LP_GX8rkNQ-n",
        "outputId": "f9bfc78e-e526-4191-fe1b-c1130ad32be0"
      },
      "execution_count": 35,
      "outputs": [
        {
          "output_type": "display_data",
          "data": {
            "text/plain": [
              "  0%|          | 0/25 [00:00<?, ?it/s]"
            ],
            "application/vnd.jupyter.widget-view+json": {
              "version_major": 2,
              "version_minor": 0,
              "model_id": "ce0283a03c5a4156a21eef0907a28aa9"
            }
          },
          "metadata": {}
        },
        {
          "output_type": "display_data",
          "data": {
            "text/plain": [
              "  0%|          | 0/16 [00:00<?, ?it/s]"
            ],
            "application/vnd.jupyter.widget-view+json": {
              "version_major": 2,
              "version_minor": 0,
              "model_id": "d478b9eb433f4a7ca3c5081f14c47b4a"
            }
          },
          "metadata": {}
        },
        {
          "output_type": "display_data",
          "data": {
            "text/plain": [
              "  0%|          | 0/25 [00:00<?, ?it/s]"
            ],
            "application/vnd.jupyter.widget-view+json": {
              "version_major": 2,
              "version_minor": 0,
              "model_id": "c0347655aafe43a495ec8f5d8903f4c1"
            }
          },
          "metadata": {}
        },
        {
          "output_type": "display_data",
          "data": {
            "text/plain": [
              "  0%|          | 0/16 [00:00<?, ?it/s]"
            ],
            "application/vnd.jupyter.widget-view+json": {
              "version_major": 2,
              "version_minor": 0,
              "model_id": "a832ce05c8ee440790da12965b27c164"
            }
          },
          "metadata": {}
        },
        {
          "output_type": "display_data",
          "data": {
            "text/plain": [
              "  0%|          | 0/25 [00:00<?, ?it/s]"
            ],
            "application/vnd.jupyter.widget-view+json": {
              "version_major": 2,
              "version_minor": 0,
              "model_id": "b1a55a99599842fa81e2fd434c071367"
            }
          },
          "metadata": {}
        },
        {
          "output_type": "display_data",
          "data": {
            "text/plain": [
              "  0%|          | 0/16 [00:00<?, ?it/s]"
            ],
            "application/vnd.jupyter.widget-view+json": {
              "version_major": 2,
              "version_minor": 0,
              "model_id": "5ed627a8ec3a4e758cb56f22cc13701d"
            }
          },
          "metadata": {}
        }
      ]
    },
    {
      "cell_type": "code",
      "source": [
        "accuracy, all_predictions, all_gt, confidences = eval_epoch(test_dl, model, device=device)\n",
        "print(accuracy)"
      ],
      "metadata": {
        "id": "zeeZsIm1Vu48",
        "outputId": "28dc7139-af33-4905-e044-3d51ca07ba6a",
        "colab": {
          "base_uri": "https://localhost:8080/",
          "height": 66,
          "referenced_widgets": [
            "2d2cf6fbf2cc41f48a0af080741212f4",
            "57c01eb9d7084b67a43d7027e2dc6cb0",
            "6f83ea9e205d47e4bd25f2bf2bb36dc7",
            "74d8a1ebc98a49c4923adc8b9b543f08",
            "6ae6148eb15e4315aaa1298356262f55",
            "2e6828ef6eee49978523a39911f574f2",
            "4b636c97e02e4f2892ea100d38273f8d",
            "b0697e3e08144ab2930dddced9c5c214",
            "63a36ee25c704543938299bcbafeb9fe",
            "91dd8e3614db42d38408d5d07df6feef",
            "3732eb3010464640b7d41aa3652c93b9"
          ]
        }
      },
      "execution_count": null,
      "outputs": [
        {
          "output_type": "display_data",
          "data": {
            "text/plain": [
              "  0%|          | 0/16 [00:00<?, ?it/s]"
            ],
            "application/vnd.jupyter.widget-view+json": {
              "version_major": 2,
              "version_minor": 0,
              "model_id": "2d2cf6fbf2cc41f48a0af080741212f4"
            }
          },
          "metadata": {}
        },
        {
          "output_type": "stream",
          "name": "stdout",
          "text": [
            "0.7951807228915663\n"
          ]
        }
      ]
    }
  ]
}